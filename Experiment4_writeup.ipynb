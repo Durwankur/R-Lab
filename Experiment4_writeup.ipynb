{
  "nbformat": 4,
  "nbformat_minor": 0,
  "metadata": {
    "colab": {
      "name": "Experiment4_writeup.ipynb",
      "provenance": [],
      "collapsed_sections": [],
      "include_colab_link": true
    },
    "kernelspec": {
      "name": "ir",
      "display_name": "R"
    }
  },
  "cells": [
    {
      "cell_type": "markdown",
      "metadata": {
        "id": "view-in-github",
        "colab_type": "text"
      },
      "source": [
        "<a href=\"https://colab.research.google.com/github/Durwankur/R-Lab/blob/main/Experiment4_writeup.ipynb\" target=\"_parent\"><img src=\"https://colab.research.google.com/assets/colab-badge.svg\" alt=\"Open In Colab\"/></a>"
      ]
    },
    {
      "cell_type": "markdown",
      "metadata": {
        "id": "ID8ytqkhyQUI"
      },
      "source": [
        "**R Programming apply family of functions**\n",
        "\n",
        "In this experiment we will learn about how to use apply family of functions\n",
        "to do data wrangling and avaoid use of looping constructs \n",
        "\n",
        "The R base manual tells you that it’s called as follows: \n",
        "\n",
        "```\n",
        "apply(X, MARGIN, FUN, ...)\n",
        "```\n",
        "\n",
        "\n",
        "```X``` is an array or a matrix if the dimension of the array is ```2```\n",
        "\n",
        "```MARGIN``` is a variable defining how the function is applied: \n",
        " \n",
        "\n",
        "*   When ```MARGIN=1```, it applies over rows \n",
        "*   Whereas with ```MARGIN=2```, it works over columns\n",
        "*   ```MARGIN=c(1,2)```, it applies to both rows and columns;     \n",
        "\n",
        "and\n",
        "```FUN```, represents the function that you want to apply to the data. It can be any R function, including a User Defined Function (UDF)."
      ]
    },
    {
      "cell_type": "code",
      "metadata": {
        "id": "rlOEIqlfJf2P",
        "colab": {
          "base_uri": "https://localhost:8080/",
          "height": 216
        },
        "outputId": "d937be3d-0625-479a-ceb6-c5e9364b94fc"
      },
      "source": [
        "# Complete the following code by using apropriate apply family function\n",
        "# Construct a 5x6 matrix\n",
        "X <-matrix(rnorm(30), nrow=5, ncol=6)\n",
        "X\n",
        "# Sum the values of each column with apply()\n",
        "X_col <- apply(X,2,sum)\n",
        "X_col\n",
        "# Sum the values of each row with apply()\n",
        "X_rowsum <- apply(X,1,sum)\n",
        "X_rowsum"
      ],
      "execution_count": 9,
      "outputs": [
        {
          "output_type": "display_data",
          "data": {
            "text/plain": [
              "     [,1]       [,2]        [,3]       [,4]       [,5]       [,6]      \n",
              "[1,] -0.7117205  0.62796106  0.1173359  0.3813413 -0.3915945 -0.1409635\n",
              "[2,]  1.4014731  0.10641974  0.1755353 -0.4445041  0.0756899  1.5453217\n",
              "[3,] -1.0963462 -0.05566686 -1.3910361 -0.2591903  0.7083384  0.5717319\n",
              "[4,]  0.9465556 -0.33342436 -1.4581448  0.7395851 -1.5670553  2.8348193\n",
              "[5,]  0.6767235 -1.39552474  1.0589345 -1.1474793  0.6963375  1.0296537"
            ],
            "text/latex": "A matrix: 5 × 6 of type dbl\n\\begin{tabular}{llllll}\n\t -0.7117205 &  0.62796106 &  0.1173359 &  0.3813413 & -0.3915945 & -0.1409635\\\\\n\t  1.4014731 &  0.10641974 &  0.1755353 & -0.4445041 &  0.0756899 &  1.5453217\\\\\n\t -1.0963462 & -0.05566686 & -1.3910361 & -0.2591903 &  0.7083384 &  0.5717319\\\\\n\t  0.9465556 & -0.33342436 & -1.4581448 &  0.7395851 & -1.5670553 &  2.8348193\\\\\n\t  0.6767235 & -1.39552474 &  1.0589345 & -1.1474793 &  0.6963375 &  1.0296537\\\\\n\\end{tabular}\n",
            "text/markdown": "\nA matrix: 5 × 6 of type dbl\n\n| -0.7117205 |  0.62796106 |  0.1173359 |  0.3813413 | -0.3915945 | -0.1409635 |\n|  1.4014731 |  0.10641974 |  0.1755353 | -0.4445041 |  0.0756899 |  1.5453217 |\n| -1.0963462 | -0.05566686 | -1.3910361 | -0.2591903 |  0.7083384 |  0.5717319 |\n|  0.9465556 | -0.33342436 | -1.4581448 |  0.7395851 | -1.5670553 |  2.8348193 |\n|  0.6767235 | -1.39552474 |  1.0589345 | -1.1474793 |  0.6963375 |  1.0296537 |\n\n",
            "text/html": [
              "<table class=\"dataframe\">\n",
              "<caption>A matrix: 5 × 6 of type dbl</caption>\n",
              "<tbody>\n",
              "\t<tr><td>-0.7117205</td><td> 0.62796106</td><td> 0.1173359</td><td> 0.3813413</td><td>-0.3915945</td><td>-0.1409635</td></tr>\n",
              "\t<tr><td> 1.4014731</td><td> 0.10641974</td><td> 0.1755353</td><td>-0.4445041</td><td> 0.0756899</td><td> 1.5453217</td></tr>\n",
              "\t<tr><td>-1.0963462</td><td>-0.05566686</td><td>-1.3910361</td><td>-0.2591903</td><td> 0.7083384</td><td> 0.5717319</td></tr>\n",
              "\t<tr><td> 0.9465556</td><td>-0.33342436</td><td>-1.4581448</td><td> 0.7395851</td><td>-1.5670553</td><td> 2.8348193</td></tr>\n",
              "\t<tr><td> 0.6767235</td><td>-1.39552474</td><td> 1.0589345</td><td>-1.1474793</td><td> 0.6963375</td><td> 1.0296537</td></tr>\n",
              "</tbody>\n",
              "</table>\n"
            ]
          },
          "metadata": {
            "tags": []
          }
        },
        {
          "output_type": "display_data",
          "data": {
            "text/plain": [
              "[1]  1.2166856 -1.0502352 -1.4973752 -0.7302472 -0.4782841  5.8405631"
            ],
            "text/latex": "\\begin{enumerate*}\n\\item 1.21668557520356\n\\item -1.05023516106962\n\\item -1.4973752158678\n\\item -0.730247223715427\n\\item -0.47828413892107\n\\item 5.84056311277422\n\\end{enumerate*}\n",
            "text/markdown": "1. 1.21668557520356\n2. -1.05023516106962\n3. -1.4973752158678\n4. -0.730247223715427\n5. -0.47828413892107\n6. 5.84056311277422\n\n\n",
            "text/html": [
              "<style>\n",
              ".list-inline {list-style: none; margin:0; padding: 0}\n",
              ".list-inline>li {display: inline-block}\n",
              ".list-inline>li:not(:last-child)::after {content: \"\\00b7\"; padding: 0 .5ex}\n",
              "</style>\n",
              "<ol class=list-inline><li>1.21668557520356</li><li>-1.05023516106962</li><li>-1.4973752158678</li><li>-0.730247223715427</li><li>-0.47828413892107</li><li>5.84056311277422</li></ol>\n"
            ]
          },
          "metadata": {
            "tags": []
          }
        },
        {
          "output_type": "display_data",
          "data": {
            "text/plain": [
              "[1] -0.1176402  2.8599356 -1.5221692  1.1623356  0.9186451"
            ],
            "text/latex": "\\begin{enumerate*}\n\\item -0.117640231861734\n\\item 2.85993563703963\n\\item -1.52216918665679\n\\item 1.16233562201878\n\\item 0.918645107863981\n\\end{enumerate*}\n",
            "text/markdown": "1. -0.117640231861734\n2. 2.85993563703963\n3. -1.52216918665679\n4. 1.16233562201878\n5. 0.918645107863981\n\n\n",
            "text/html": [
              "<style>\n",
              ".list-inline {list-style: none; margin:0; padding: 0}\n",
              ".list-inline>li {display: inline-block}\n",
              ".list-inline>li:not(:last-child)::after {content: \"\\00b7\"; padding: 0 .5ex}\n",
              "</style>\n",
              "<ol class=list-inline><li>-0.117640231861734</li><li>2.85993563703963</li><li>-1.52216918665679</li><li>1.16233562201878</li><li>0.918645107863981</li></ol>\n"
            ]
          },
          "metadata": {
            "tags": []
          }
        }
      ]
    },
    {
      "cell_type": "code",
      "metadata": {
        "id": "XzaE_-Cyfpk9",
        "colab": {
          "base_uri": "https://localhost:8080/",
          "height": 200
        },
        "outputId": "85263550-6cbf-4f6d-f891-4f748832e3b9"
      },
      "source": [
        "# Complete the following code by using looping construct\n",
        "# Construct a 5x6 matrix\n",
        "X <-matrix(rnorm(30), nrow=5, ncol=6)\n",
        "X\n",
        "# Sum the values of each column with apply()\n",
        "X_col1 <- apply(X,2,sum)\n",
        "X_col1\n"
      ],
      "execution_count": 10,
      "outputs": [
        {
          "output_type": "display_data",
          "data": {
            "text/plain": [
              "     [,1]       [,2]        [,3]       [,4]       [,5]       [,6]      \n",
              "[1,]  0.8754408 -0.41090344 -0.1141708 -0.6754847 -0.6728623  0.5102504\n",
              "[2,]  0.2041897 -0.50817958 -0.5774118  0.5071649  0.8605531  0.3858691\n",
              "[3,]  0.5289479  0.04060057 -2.0580388  0.4428236  1.0539659  0.1135671\n",
              "[4,] -0.3821145 -0.11191697 -1.1739080 -0.2381204  1.3305530  0.9177215\n",
              "[5,]  0.4744400 -0.01745028 -0.6855903  0.4369313 -0.7392426 -1.6280011"
            ],
            "text/latex": "A matrix: 5 × 6 of type dbl\n\\begin{tabular}{llllll}\n\t  0.8754408 & -0.41090344 & -0.1141708 & -0.6754847 & -0.6728623 &  0.5102504\\\\\n\t  0.2041897 & -0.50817958 & -0.5774118 &  0.5071649 &  0.8605531 &  0.3858691\\\\\n\t  0.5289479 &  0.04060057 & -2.0580388 &  0.4428236 &  1.0539659 &  0.1135671\\\\\n\t -0.3821145 & -0.11191697 & -1.1739080 & -0.2381204 &  1.3305530 &  0.9177215\\\\\n\t  0.4744400 & -0.01745028 & -0.6855903 &  0.4369313 & -0.7392426 & -1.6280011\\\\\n\\end{tabular}\n",
            "text/markdown": "\nA matrix: 5 × 6 of type dbl\n\n|  0.8754408 | -0.41090344 | -0.1141708 | -0.6754847 | -0.6728623 |  0.5102504 |\n|  0.2041897 | -0.50817958 | -0.5774118 |  0.5071649 |  0.8605531 |  0.3858691 |\n|  0.5289479 |  0.04060057 | -2.0580388 |  0.4428236 |  1.0539659 |  0.1135671 |\n| -0.3821145 | -0.11191697 | -1.1739080 | -0.2381204 |  1.3305530 |  0.9177215 |\n|  0.4744400 | -0.01745028 | -0.6855903 |  0.4369313 | -0.7392426 | -1.6280011 |\n\n",
            "text/html": [
              "<table class=\"dataframe\">\n",
              "<caption>A matrix: 5 × 6 of type dbl</caption>\n",
              "<tbody>\n",
              "\t<tr><td> 0.8754408</td><td>-0.41090344</td><td>-0.1141708</td><td>-0.6754847</td><td>-0.6728623</td><td> 0.5102504</td></tr>\n",
              "\t<tr><td> 0.2041897</td><td>-0.50817958</td><td>-0.5774118</td><td> 0.5071649</td><td> 0.8605531</td><td> 0.3858691</td></tr>\n",
              "\t<tr><td> 0.5289479</td><td> 0.04060057</td><td>-2.0580388</td><td> 0.4428236</td><td> 1.0539659</td><td> 0.1135671</td></tr>\n",
              "\t<tr><td>-0.3821145</td><td>-0.11191697</td><td>-1.1739080</td><td>-0.2381204</td><td> 1.3305530</td><td> 0.9177215</td></tr>\n",
              "\t<tr><td> 0.4744400</td><td>-0.01745028</td><td>-0.6855903</td><td> 0.4369313</td><td>-0.7392426</td><td>-1.6280011</td></tr>\n",
              "</tbody>\n",
              "</table>\n"
            ]
          },
          "metadata": {
            "tags": []
          }
        },
        {
          "output_type": "display_data",
          "data": {
            "text/plain": [
              "[1]  1.7009038 -1.0078497 -4.6091196  0.4733146  1.8329671  0.2994071"
            ],
            "text/latex": "\\begin{enumerate*}\n\\item 1.70090379810903\n\\item -1.00784969666212\n\\item -4.60911961166621\n\\item 0.473314634599293\n\\item 1.83296709976082\n\\item 0.299407145929413\n\\end{enumerate*}\n",
            "text/markdown": "1. 1.70090379810903\n2. -1.00784969666212\n3. -4.60911961166621\n4. 0.473314634599293\n5. 1.83296709976082\n6. 0.299407145929413\n\n\n",
            "text/html": [
              "<style>\n",
              ".list-inline {list-style: none; margin:0; padding: 0}\n",
              ".list-inline>li {display: inline-block}\n",
              ".list-inline>li:not(:last-child)::after {content: \"\\00b7\"; padding: 0 .5ex}\n",
              "</style>\n",
              "<ol class=list-inline><li>1.70090379810903</li><li>-1.00784969666212</li><li>-4.60911961166621</li><li>0.473314634599293</li><li>1.83296709976082</li><li>0.299407145929413</li></ol>\n"
            ]
          },
          "metadata": {
            "tags": []
          }
        }
      ]
    },
    {
      "cell_type": "markdown",
      "metadata": {
        "id": "c8gOYmFjf3lO"
      },
      "source": [
        "The **lapply()** Function is used when You want to apply a given function to every element of a list and obtain a list as a result.\n",
        " \n",
        " Syntax of **lapply()** looks like the **apply()** function.\n",
        "\n",
        "There is a slight difference in way they work, which is :\n",
        "\n",
        "\n",
        "\n",
        "1.   **lapply()** can be used for other objects like dataframes, lists or vectors\n",
        "2.   The output returned by **lapply()** is a list (which explains the “l” in the function name), which has the same number of elements as the object passed to it.\n",
        "\n",
        "To see how this works, complete the following code block.\n",
        "\n",
        "**lapply()** is a quite common operation performed on real data when making comparisons or aggregations from different dataframes.\n"
      ]
    },
    {
      "cell_type": "code",
      "metadata": {
        "id": "CbwaRO2ChyfV",
        "colab": {
          "base_uri": "https://localhost:8080/",
          "height": 911
        },
        "outputId": "69fdfff3-7374-4671-847b-1acb893d5db5"
      },
      "source": [
        "# Using sequence 1:9 create a matrix A with size 3*3\n",
        "A <- matrix(1:9, nrow=3, ncol=3)\n",
        "A\n",
        "\n",
        "#Using sequence 4:15 create a matrix B with size 4*3\n",
        "B <- matrix(4:15, nrow=4, ncol=3)\n",
        "B\n",
        "\n",
        "#Using sequnce 8:10 create a matrix C with size 3*2\n",
        "C <- matrix(8:10, nrow=3, ncol=2)\n",
        "C\n",
        "\n",
        "# create variable MyList as list of matrix A, B, C\n",
        "MyList <- list(A, B, C)\n",
        "MyList\n",
        "\n",
        "\n"
      ],
      "execution_count": 11,
      "outputs": [
        {
          "output_type": "display_data",
          "data": {
            "text/plain": [
              "     [,1] [,2] [,3]\n",
              "[1,] 1    4    7   \n",
              "[2,] 2    5    8   \n",
              "[3,] 3    6    9   "
            ],
            "text/latex": "A matrix: 3 × 3 of type int\n\\begin{tabular}{lll}\n\t 1 & 4 & 7\\\\\n\t 2 & 5 & 8\\\\\n\t 3 & 6 & 9\\\\\n\\end{tabular}\n",
            "text/markdown": "\nA matrix: 3 × 3 of type int\n\n| 1 | 4 | 7 |\n| 2 | 5 | 8 |\n| 3 | 6 | 9 |\n\n",
            "text/html": [
              "<table class=\"dataframe\">\n",
              "<caption>A matrix: 3 × 3 of type int</caption>\n",
              "<tbody>\n",
              "\t<tr><td>1</td><td>4</td><td>7</td></tr>\n",
              "\t<tr><td>2</td><td>5</td><td>8</td></tr>\n",
              "\t<tr><td>3</td><td>6</td><td>9</td></tr>\n",
              "</tbody>\n",
              "</table>\n"
            ]
          },
          "metadata": {
            "tags": []
          }
        },
        {
          "output_type": "display_data",
          "data": {
            "text/plain": [
              "     [,1] [,2] [,3]\n",
              "[1,] 4     8   12  \n",
              "[2,] 5     9   13  \n",
              "[3,] 6    10   14  \n",
              "[4,] 7    11   15  "
            ],
            "text/latex": "A matrix: 4 × 3 of type int\n\\begin{tabular}{lll}\n\t 4 &  8 & 12\\\\\n\t 5 &  9 & 13\\\\\n\t 6 & 10 & 14\\\\\n\t 7 & 11 & 15\\\\\n\\end{tabular}\n",
            "text/markdown": "\nA matrix: 4 × 3 of type int\n\n| 4 |  8 | 12 |\n| 5 |  9 | 13 |\n| 6 | 10 | 14 |\n| 7 | 11 | 15 |\n\n",
            "text/html": [
              "<table class=\"dataframe\">\n",
              "<caption>A matrix: 4 × 3 of type int</caption>\n",
              "<tbody>\n",
              "\t<tr><td>4</td><td> 8</td><td>12</td></tr>\n",
              "\t<tr><td>5</td><td> 9</td><td>13</td></tr>\n",
              "\t<tr><td>6</td><td>10</td><td>14</td></tr>\n",
              "\t<tr><td>7</td><td>11</td><td>15</td></tr>\n",
              "</tbody>\n",
              "</table>\n"
            ]
          },
          "metadata": {
            "tags": []
          }
        },
        {
          "output_type": "display_data",
          "data": {
            "text/plain": [
              "     [,1] [,2]\n",
              "[1,]  8    8  \n",
              "[2,]  9    9  \n",
              "[3,] 10   10  "
            ],
            "text/latex": "A matrix: 3 × 2 of type int\n\\begin{tabular}{ll}\n\t  8 &  8\\\\\n\t  9 &  9\\\\\n\t 10 & 10\\\\\n\\end{tabular}\n",
            "text/markdown": "\nA matrix: 3 × 2 of type int\n\n|  8 |  8 |\n|  9 |  9 |\n| 10 | 10 |\n\n",
            "text/html": [
              "<table class=\"dataframe\">\n",
              "<caption>A matrix: 3 × 2 of type int</caption>\n",
              "<tbody>\n",
              "\t<tr><td> 8</td><td> 8</td></tr>\n",
              "\t<tr><td> 9</td><td> 9</td></tr>\n",
              "\t<tr><td>10</td><td>10</td></tr>\n",
              "</tbody>\n",
              "</table>\n"
            ]
          },
          "metadata": {
            "tags": []
          }
        },
        {
          "output_type": "display_data",
          "data": {
            "text/plain": [
              "[[1]]\n",
              "     [,1] [,2] [,3]\n",
              "[1,]    1    4    7\n",
              "[2,]    2    5    8\n",
              "[3,]    3    6    9\n",
              "\n",
              "[[2]]\n",
              "     [,1] [,2] [,3]\n",
              "[1,]    4    8   12\n",
              "[2,]    5    9   13\n",
              "[3,]    6   10   14\n",
              "[4,]    7   11   15\n",
              "\n",
              "[[3]]\n",
              "     [,1] [,2]\n",
              "[1,]    8    8\n",
              "[2,]    9    9\n",
              "[3,]   10   10\n"
            ],
            "text/latex": "\\begin{enumerate}\n\\item A matrix: 3 × 3 of type int\n\\begin{tabular}{lll}\n\t 1 & 4 & 7\\\\\n\t 2 & 5 & 8\\\\\n\t 3 & 6 & 9\\\\\n\\end{tabular}\n\n\\item A matrix: 4 × 3 of type int\n\\begin{tabular}{lll}\n\t 4 &  8 & 12\\\\\n\t 5 &  9 & 13\\\\\n\t 6 & 10 & 14\\\\\n\t 7 & 11 & 15\\\\\n\\end{tabular}\n\n\\item A matrix: 3 × 2 of type int\n\\begin{tabular}{ll}\n\t  8 &  8\\\\\n\t  9 &  9\\\\\n\t 10 & 10\\\\\n\\end{tabular}\n\n\\end{enumerate}\n",
            "text/markdown": "1. \nA matrix: 3 × 3 of type int\n\n| 1 | 4 | 7 |\n| 2 | 5 | 8 |\n| 3 | 6 | 9 |\n\n\n2. \nA matrix: 4 × 3 of type int\n\n| 4 |  8 | 12 |\n| 5 |  9 | 13 |\n| 6 | 10 | 14 |\n| 7 | 11 | 15 |\n\n\n3. \nA matrix: 3 × 2 of type int\n\n|  8 |  8 |\n|  9 |  9 |\n| 10 | 10 |\n\n\n\n\n",
            "text/html": [
              "<ol>\n",
              "\t<li><table class=\"dataframe\">\n",
              "<caption>A matrix: 3 × 3 of type int</caption>\n",
              "<tbody>\n",
              "\t<tr><td>1</td><td>4</td><td>7</td></tr>\n",
              "\t<tr><td>2</td><td>5</td><td>8</td></tr>\n",
              "\t<tr><td>3</td><td>6</td><td>9</td></tr>\n",
              "</tbody>\n",
              "</table>\n",
              "</li>\n",
              "\t<li><table class=\"dataframe\">\n",
              "<caption>A matrix: 4 × 3 of type int</caption>\n",
              "<tbody>\n",
              "\t<tr><td>4</td><td> 8</td><td>12</td></tr>\n",
              "\t<tr><td>5</td><td> 9</td><td>13</td></tr>\n",
              "\t<tr><td>6</td><td>10</td><td>14</td></tr>\n",
              "\t<tr><td>7</td><td>11</td><td>15</td></tr>\n",
              "</tbody>\n",
              "</table>\n",
              "</li>\n",
              "\t<li><table class=\"dataframe\">\n",
              "<caption>A matrix: 3 × 2 of type int</caption>\n",
              "<tbody>\n",
              "\t<tr><td> 8</td><td> 8</td></tr>\n",
              "\t<tr><td> 9</td><td> 9</td></tr>\n",
              "\t<tr><td>10</td><td>10</td></tr>\n",
              "</tbody>\n",
              "</table>\n",
              "</li>\n",
              "</ol>\n"
            ]
          },
          "metadata": {
            "tags": []
          }
        }
      ]
    },
    {
      "cell_type": "code",
      "metadata": {
        "colab": {
          "base_uri": "https://localhost:8080/",
          "height": 210
        },
        "id": "9c_yF_kxdpfn",
        "outputId": "fed251e6-b964-40cc-f040-e9177e5eb370"
      },
      "source": [
        "# Using lapply and [ operator Extract the 2nd column from `MyList` with the selection operator `[` with `lapply()`\n",
        "lapply(MyList, '[', , 2)\n",
        "\n",
        "# Using lapply and [ operator Extract the 4th row from `MyList` with the selection operator `[` with `lapply()`\n",
        "lapply(MyList, '[', 4, )\n",
        "#Error because matrix A and C have 3 rows."
      ],
      "execution_count": 12,
      "outputs": [
        {
          "output_type": "display_data",
          "data": {
            "text/plain": [
              "[[1]]\n",
              "[1] 4 5 6\n",
              "\n",
              "[[2]]\n",
              "[1]  8  9 10 11\n",
              "\n",
              "[[3]]\n",
              "[1]  8  9 10\n"
            ],
            "text/latex": "\\begin{enumerate}\n\\item \\begin{enumerate*}\n\\item 4\n\\item 5\n\\item 6\n\\end{enumerate*}\n\n\\item \\begin{enumerate*}\n\\item 8\n\\item 9\n\\item 10\n\\item 11\n\\end{enumerate*}\n\n\\item \\begin{enumerate*}\n\\item 8\n\\item 9\n\\item 10\n\\end{enumerate*}\n\n\\end{enumerate}\n",
            "text/markdown": "1. 1. 4\n2. 5\n3. 6\n\n\n\n2. 1. 8\n2. 9\n3. 10\n4. 11\n\n\n\n3. 1. 8\n2. 9\n3. 10\n\n\n\n\n\n",
            "text/html": [
              "<ol>\n",
              "\t<li><style>\n",
              ".list-inline {list-style: none; margin:0; padding: 0}\n",
              ".list-inline>li {display: inline-block}\n",
              ".list-inline>li:not(:last-child)::after {content: \"\\00b7\"; padding: 0 .5ex}\n",
              "</style>\n",
              "<ol class=list-inline><li>4</li><li>5</li><li>6</li></ol>\n",
              "</li>\n",
              "\t<li><style>\n",
              ".list-inline {list-style: none; margin:0; padding: 0}\n",
              ".list-inline>li {display: inline-block}\n",
              ".list-inline>li:not(:last-child)::after {content: \"\\00b7\"; padding: 0 .5ex}\n",
              "</style>\n",
              "<ol class=list-inline><li>8</li><li>9</li><li>10</li><li>11</li></ol>\n",
              "</li>\n",
              "\t<li><style>\n",
              ".list-inline {list-style: none; margin:0; padding: 0}\n",
              ".list-inline>li {display: inline-block}\n",
              ".list-inline>li:not(:last-child)::after {content: \"\\00b7\"; padding: 0 .5ex}\n",
              "</style>\n",
              "<ol class=list-inline><li>8</li><li>9</li><li>10</li></ol>\n",
              "</li>\n",
              "</ol>\n"
            ]
          },
          "metadata": {
            "tags": []
          }
        },
        {
          "output_type": "error",
          "ename": "ERROR",
          "evalue": "ignored",
          "traceback": [
            "Error in FUN(X[[i]], ...): subscript out of bounds\nTraceback:\n",
            "1. lapply(MyList, \"[\", 4, )"
          ]
        }
      ]
    },
    {
      "cell_type": "code",
      "metadata": {
        "id": "t1NiVDAYd0Sd"
      },
      "source": [
        "# Using lapply and [ operator Extract the 1st row from `MyList` with the selection operator `[` with `lapply()`\n",
        "lapply(MyList, '[', 1, )"
      ],
      "execution_count": null,
      "outputs": []
    },
    {
      "cell_type": "markdown",
      "metadata": {
        "id": "G0kWHtRVjDjw"
      },
      "source": [
        "The **sapply()** Function\n",
        "\n",
        "The **sapply()** function works like **lapply()**, but it tries to simplify the output to the most elementary data structure that is possible. And indeed, ```sapply()``` is a **‘wrapper’** function for **lapply()**.\n",
        "\n",
        "Let’s repeat the extraction operation of a single element as in the last example, but now take the first element of the second row (indexes 2 and 1) for each matrix.\n",
        "\n",
        "Applying the **lapply()** function would give us a list unless you pass ```simplify=FALSE``` as a parameter to **sapply()**. Then, a list will be returned. See how it works in the code chunk below:\n",
        "\n"
      ]
    },
    {
      "cell_type": "code",
      "metadata": {
        "id": "RxXnDh47jiBF"
      },
      "source": [
        "# Return a list with `lapply()`\n",
        "lapply(MyList,\"[\", 2, 1 )\n",
        "\n",
        "# Return a vector with `sapply()`\n",
        "sapply(MyList,\"[\", 2, 1 )\n",
        "\n",
        "# Return a list with `sapply()`\n",
        "sapply(MyList,\"[\", 2, 1, simplify=F)\n",
        "\n",
        "# Return a vector with `unlist()`\n",
        "unlist(lapply(MyList,\"[\", 2, 1 ))"
      ],
      "execution_count": null,
      "outputs": []
    },
    {
      "cell_type": "markdown",
      "metadata": {
        "id": "WuuRcW03kJyA"
      },
      "source": [
        "In this Text Block Write note on mapply function and give exampe code and exaplain use of mapply function.\n",
        "\n",
        "Ans:\n",
        "mapply can be used to call a function FUN over vectors or lists one index at a time. In other words the function is first called over elements at index 1 of all vectors or list, its then called over all elements at index 2 and so on.  \n"
      ]
    },
    {
      "cell_type": "code",
      "metadata": {
        "id": "pos2C33ujiEh"
      },
      "source": [
        "# Example use of mapply function\n",
        "mapply(rep, 1:5, 5:1)\n",
        "#This passes the sequence 1:4 to the first argument of rep() and the sequence 4:1 to the second argument."
      ],
      "execution_count": null,
      "outputs": []
    },
    {
      "cell_type": "markdown",
      "metadata": {
        "id": "bvSq6g63fo0g"
      },
      "source": [
        " Example: \n",
        " It takes in two parameters x and y. The values of x come from the second argument (x=c(2,3)) and the values of y come from the 3rd argument (y=c(3,4)). x and y both have two values so the function is called twice. The first time its called with the first values of x and y (x=2 and y =3 which gives 8). The second time its called with the second values of x and y (x=3 and y=4 which gives 81)"
      ]
    },
    {
      "cell_type": "code",
      "metadata": {
        "id": "SB5wOiSLe-Zs"
      },
      "source": [
        " mapply(function(x,y){x^y},x=c(2,3),y=c(3,4))\n"
      ],
      "execution_count": null,
      "outputs": []
    },
    {
      "cell_type": "markdown",
      "metadata": {
        "id": "76Ry86xlfuUL"
      },
      "source": [
        ""
      ]
    }
  ]
}