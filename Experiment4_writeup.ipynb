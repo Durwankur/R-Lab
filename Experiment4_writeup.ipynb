{
  "nbformat": 4,
  "nbformat_minor": 0,
  "metadata": {
    "colab": {
      "name": "Experiment4_writeup.ipynb",
      "provenance": [],
      "collapsed_sections": [],
      "include_colab_link": true
    },
    "kernelspec": {
      "name": "ir",
      "display_name": "R"
    }
  },
  "cells": [
    {
      "cell_type": "markdown",
      "metadata": {
        "id": "view-in-github",
        "colab_type": "text"
      },
      "source": [
        "<a href=\"https://colab.research.google.com/github/Durwankur/R-Lab/blob/main/Experiment4_writeup.ipynb\" target=\"_parent\"><img src=\"https://colab.research.google.com/assets/colab-badge.svg\" alt=\"Open In Colab\"/></a>"
      ]
    },
    {
      "cell_type": "markdown",
      "metadata": {
        "id": "ID8ytqkhyQUI"
      },
      "source": [
        "**R Programming apply family of functions**\n",
        "\n",
        "In this experiment we will learn about how to use apply family of functions\n",
        "to do data wrangling and avaoid use of looping constructs \n",
        "\n",
        "The R base manual tells you that it’s called as follows: \n",
        "\n",
        "```\n",
        "apply(X, MARGIN, FUN, ...)\n",
        "```\n",
        "\n",
        "\n",
        "```X``` is an array or a matrix if the dimension of the array is ```2```\n",
        "\n",
        "```MARGIN``` is a variable defining how the function is applied: \n",
        " \n",
        "\n",
        "*   When ```MARGIN=1```, it applies over rows \n",
        "*   Whereas with ```MARGIN=2```, it works over columns\n",
        "*   ```MARGIN=c(1,2)```, it applies to both rows and columns;     \n",
        "\n",
        "and\n",
        "```FUN```, represents the function that you want to apply to the data. It can be any R function, including a User Defined Function (UDF)."
      ]
    },
    {
      "cell_type": "code",
      "metadata": {
        "id": "rlOEIqlfJf2P",
        "colab": {
          "base_uri": "https://localhost:8080/",
          "height": 216
        },
        "outputId": "05563ef3-ecac-4262-fae3-bae409eb68c3"
      },
      "source": [
        "# Complete the following code by using apropriate apply family function\n",
        "# Construct a 5x6 matrix\n",
        "X <-matrix(rnorm(30), nrow=5, ncol=6)\n",
        "X\n",
        "# Sum the values of each column with apply()\n",
        "X_col <- apply(X,2,sum)\n",
        "X_col\n",
        "# Sum the values of each row with apply()\n",
        "X_rowsum <- apply(X,1,sum)\n",
        "X_rowsum"
      ],
      "execution_count": 2,
      "outputs": [
        {
          "output_type": "display_data",
          "data": {
            "text/plain": [
              "     [,1]       [,2]       [,3]       [,4]       [,5]       [,6]       \n",
              "[1,]  0.6151636 -0.7544515  0.6088720  0.3756359  0.6028482 -0.35714985\n",
              "[2,]  0.5280075  0.1035778 -0.5820284 -0.2760312 -0.1544645  2.25237955\n",
              "[3,] -0.5000236 -0.9557067  1.3399670  0.7696076  0.3077036  0.02724537\n",
              "[4,] -0.1787155  0.6725446 -1.1950260 -1.0176087 -1.1726584 -3.07616491\n",
              "[5,] -1.0413858  1.6811746 -1.2274555 -0.4085001  0.3682679  2.00818552"
            ],
            "text/latex": "A matrix: 5 × 6 of type dbl\n\\begin{tabular}{llllll}\n\t  0.6151636 & -0.7544515 &  0.6088720 &  0.3756359 &  0.6028482 & -0.35714985\\\\\n\t  0.5280075 &  0.1035778 & -0.5820284 & -0.2760312 & -0.1544645 &  2.25237955\\\\\n\t -0.5000236 & -0.9557067 &  1.3399670 &  0.7696076 &  0.3077036 &  0.02724537\\\\\n\t -0.1787155 &  0.6725446 & -1.1950260 & -1.0176087 & -1.1726584 & -3.07616491\\\\\n\t -1.0413858 &  1.6811746 & -1.2274555 & -0.4085001 &  0.3682679 &  2.00818552\\\\\n\\end{tabular}\n",
            "text/markdown": "\nA matrix: 5 × 6 of type dbl\n\n|  0.6151636 | -0.7544515 |  0.6088720 |  0.3756359 |  0.6028482 | -0.35714985 |\n|  0.5280075 |  0.1035778 | -0.5820284 | -0.2760312 | -0.1544645 |  2.25237955 |\n| -0.5000236 | -0.9557067 |  1.3399670 |  0.7696076 |  0.3077036 |  0.02724537 |\n| -0.1787155 |  0.6725446 | -1.1950260 | -1.0176087 | -1.1726584 | -3.07616491 |\n| -1.0413858 |  1.6811746 | -1.2274555 | -0.4085001 |  0.3682679 |  2.00818552 |\n\n",
            "text/html": [
              "<table class=\"dataframe\">\n",
              "<caption>A matrix: 5 × 6 of type dbl</caption>\n",
              "<tbody>\n",
              "\t<tr><td> 0.6151636</td><td>-0.7544515</td><td> 0.6088720</td><td> 0.3756359</td><td> 0.6028482</td><td>-0.35714985</td></tr>\n",
              "\t<tr><td> 0.5280075</td><td> 0.1035778</td><td>-0.5820284</td><td>-0.2760312</td><td>-0.1544645</td><td> 2.25237955</td></tr>\n",
              "\t<tr><td>-0.5000236</td><td>-0.9557067</td><td> 1.3399670</td><td> 0.7696076</td><td> 0.3077036</td><td> 0.02724537</td></tr>\n",
              "\t<tr><td>-0.1787155</td><td> 0.6725446</td><td>-1.1950260</td><td>-1.0176087</td><td>-1.1726584</td><td>-3.07616491</td></tr>\n",
              "\t<tr><td>-1.0413858</td><td> 1.6811746</td><td>-1.2274555</td><td>-0.4085001</td><td> 0.3682679</td><td> 2.00818552</td></tr>\n",
              "</tbody>\n",
              "</table>\n"
            ]
          },
          "metadata": {
            "tags": []
          }
        },
        {
          "output_type": "display_data",
          "data": {
            "text/plain": [
              "[1] -0.57695382  0.74713875 -1.05567096 -0.55689651 -0.04830307  0.85449568"
            ],
            "text/latex": "\\begin{enumerate*}\n\\item -0.576953819807895\n\\item 0.747138748835444\n\\item -1.05567096483043\n\\item -0.556896509201281\n\\item -0.0483030670191253\n\\item 0.854495681697002\n\\end{enumerate*}\n",
            "text/markdown": "1. -0.576953819807895\n2. 0.747138748835444\n3. -1.05567096483043\n4. -0.556896509201281\n5. -0.0483030670191253\n6. 0.854495681697002\n\n\n",
            "text/html": [
              "<style>\n",
              ".list-inline {list-style: none; margin:0; padding: 0}\n",
              ".list-inline>li {display: inline-block}\n",
              ".list-inline>li:not(:last-child)::after {content: \"\\00b7\"; padding: 0 .5ex}\n",
              "</style>\n",
              "<ol class=list-inline><li>-0.576953819807895</li><li>0.747138748835444</li><li>-1.05567096483043</li><li>-0.556896509201281</li><li>-0.0483030670191253</li><li>0.854495681697002</li></ol>\n"
            ]
          },
          "metadata": {
            "tags": []
          }
        },
        {
          "output_type": "display_data",
          "data": {
            "text/plain": [
              "[1]  1.0909183  1.8714407  0.9887933 -5.9676289  1.3802867"
            ],
            "text/latex": "\\begin{enumerate*}\n\\item 1.09091828299785\n\\item 1.87144073120648\n\\item 0.988793267638277\n\\item -5.96762886806572\n\\item 1.38028665589683\n\\end{enumerate*}\n",
            "text/markdown": "1. 1.09091828299785\n2. 1.87144073120648\n3. 0.988793267638277\n4. -5.96762886806572\n5. 1.38028665589683\n\n\n",
            "text/html": [
              "<style>\n",
              ".list-inline {list-style: none; margin:0; padding: 0}\n",
              ".list-inline>li {display: inline-block}\n",
              ".list-inline>li:not(:last-child)::after {content: \"\\00b7\"; padding: 0 .5ex}\n",
              "</style>\n",
              "<ol class=list-inline><li>1.09091828299785</li><li>1.87144073120648</li><li>0.988793267638277</li><li>-5.96762886806572</li><li>1.38028665589683</li></ol>\n"
            ]
          },
          "metadata": {
            "tags": []
          }
        }
      ]
    },
    {
      "cell_type": "code",
      "metadata": {
        "id": "XzaE_-Cyfpk9",
        "colab": {
          "base_uri": "https://localhost:8080/",
          "height": 200
        },
        "outputId": "3652e7a1-c57c-4e1a-d355-97e7eb2a5958"
      },
      "source": [
        "# Complete the following code by using looping construct\n",
        "# Construct a 5x6 matrix\n",
        "X <-matrix(rnorm(30), nrow=5, ncol=6)\n",
        "X\n",
        "# Sum the values of each column with apply()\n",
        "X_col1 <- apply(X,2,sum)\n",
        "X_col1\n"
      ],
      "execution_count": 3,
      "outputs": [
        {
          "output_type": "display_data",
          "data": {
            "text/plain": [
              "     [,1]       [,2]        [,3]       [,4]         [,5]       [,6]       \n",
              "[1,] -0.6041475 -1.02673542 -2.2551149  0.244174447 -1.7155791 -1.14473263\n",
              "[2,] -1.1509289 -0.07850019 -0.5824056 -0.314744802  0.8176323 -0.24840564\n",
              "[3,] -1.9026575  0.21900056 -1.6437543  0.004651108 -0.5016103 -0.01506077\n",
              "[4,] -0.3016404  0.59588003 -1.4358437  0.252605386 -1.0487737 -0.89095579\n",
              "[5,]  0.7545842  0.17147425  0.5545440  0.402281021  0.7817469 -0.28186778"
            ],
            "text/latex": "A matrix: 5 × 6 of type dbl\n\\begin{tabular}{llllll}\n\t -0.6041475 & -1.02673542 & -2.2551149 &  0.244174447 & -1.7155791 & -1.14473263\\\\\n\t -1.1509289 & -0.07850019 & -0.5824056 & -0.314744802 &  0.8176323 & -0.24840564\\\\\n\t -1.9026575 &  0.21900056 & -1.6437543 &  0.004651108 & -0.5016103 & -0.01506077\\\\\n\t -0.3016404 &  0.59588003 & -1.4358437 &  0.252605386 & -1.0487737 & -0.89095579\\\\\n\t  0.7545842 &  0.17147425 &  0.5545440 &  0.402281021 &  0.7817469 & -0.28186778\\\\\n\\end{tabular}\n",
            "text/markdown": "\nA matrix: 5 × 6 of type dbl\n\n| -0.6041475 | -1.02673542 | -2.2551149 |  0.244174447 | -1.7155791 | -1.14473263 |\n| -1.1509289 | -0.07850019 | -0.5824056 | -0.314744802 |  0.8176323 | -0.24840564 |\n| -1.9026575 |  0.21900056 | -1.6437543 |  0.004651108 | -0.5016103 | -0.01506077 |\n| -0.3016404 |  0.59588003 | -1.4358437 |  0.252605386 | -1.0487737 | -0.89095579 |\n|  0.7545842 |  0.17147425 |  0.5545440 |  0.402281021 |  0.7817469 | -0.28186778 |\n\n",
            "text/html": [
              "<table class=\"dataframe\">\n",
              "<caption>A matrix: 5 × 6 of type dbl</caption>\n",
              "<tbody>\n",
              "\t<tr><td>-0.6041475</td><td>-1.02673542</td><td>-2.2551149</td><td> 0.244174447</td><td>-1.7155791</td><td>-1.14473263</td></tr>\n",
              "\t<tr><td>-1.1509289</td><td>-0.07850019</td><td>-0.5824056</td><td>-0.314744802</td><td> 0.8176323</td><td>-0.24840564</td></tr>\n",
              "\t<tr><td>-1.9026575</td><td> 0.21900056</td><td>-1.6437543</td><td> 0.004651108</td><td>-0.5016103</td><td>-0.01506077</td></tr>\n",
              "\t<tr><td>-0.3016404</td><td> 0.59588003</td><td>-1.4358437</td><td> 0.252605386</td><td>-1.0487737</td><td>-0.89095579</td></tr>\n",
              "\t<tr><td> 0.7545842</td><td> 0.17147425</td><td> 0.5545440</td><td> 0.402281021</td><td> 0.7817469</td><td>-0.28186778</td></tr>\n",
              "</tbody>\n",
              "</table>\n"
            ]
          },
          "metadata": {
            "tags": []
          }
        },
        {
          "output_type": "display_data",
          "data": {
            "text/plain": [
              "[1] -3.2047901 -0.1188808 -5.3625745  0.5889672 -1.6665839 -2.5810226"
            ],
            "text/latex": "\\begin{enumerate*}\n\\item -3.20479006996855\n\\item -0.118880774815755\n\\item -5.36257446253629\n\\item 0.588967160365774\n\\item -1.66658392501444\n\\item -2.58102260080259\n\\end{enumerate*}\n",
            "text/markdown": "1. -3.20479006996855\n2. -0.118880774815755\n3. -5.36257446253629\n4. 0.588967160365774\n5. -1.66658392501444\n6. -2.58102260080259\n\n\n",
            "text/html": [
              "<style>\n",
              ".list-inline {list-style: none; margin:0; padding: 0}\n",
              ".list-inline>li {display: inline-block}\n",
              ".list-inline>li:not(:last-child)::after {content: \"\\00b7\"; padding: 0 .5ex}\n",
              "</style>\n",
              "<ol class=list-inline><li>-3.20479006996855</li><li>-0.118880774815755</li><li>-5.36257446253629</li><li>0.588967160365774</li><li>-1.66658392501444</li><li>-2.58102260080259</li></ol>\n"
            ]
          },
          "metadata": {
            "tags": []
          }
        }
      ]
    },
    {
      "cell_type": "markdown",
      "metadata": {
        "id": "c8gOYmFjf3lO"
      },
      "source": [
        "The **lapply()** Function is used when You want to apply a given function to every element of a list and obtain a list as a result.\n",
        " \n",
        " Syntax of **lapply()** looks like the **apply()** function.\n",
        "\n",
        "There is a slight difference in way they work, which is :\n",
        "\n",
        "\n",
        "\n",
        "1.   **lapply()** can be used for other objects like dataframes, lists or vectors\n",
        "2.   The output returned by **lapply()** is a list (which explains the “l” in the function name), which has the same number of elements as the object passed to it.\n",
        "\n",
        "To see how this works, complete the following code block.\n",
        "\n",
        "**lapply()** is a quite common operation performed on real data when making comparisons or aggregations from different dataframes.\n"
      ]
    },
    {
      "cell_type": "code",
      "metadata": {
        "id": "CbwaRO2ChyfV",
        "colab": {
          "base_uri": "https://localhost:8080/",
          "height": 911
        },
        "outputId": "404cf95e-232c-48d2-d7f8-680661deb937"
      },
      "source": [
        "# Using sequence 1:9 create a matrix A with size 3*3\n",
        "A <- matrix(1:9, nrow=3, ncol=3)\n",
        "A\n",
        "\n",
        "#Using sequence 4:15 create a matrix B with size 4*3\n",
        "B <- matrix(4:15, nrow=4, ncol=3)\n",
        "B\n",
        "\n",
        "#Using sequnce 8:10 create a matrix C with size 3*2\n",
        "C <- matrix(8:10, nrow=3, ncol=2)\n",
        "C\n",
        "\n",
        "# create variable MyList as list of matrix A, B, C\n",
        "MyList <- list(A, B, C)\n",
        "MyList\n",
        "\n",
        "\n"
      ],
      "execution_count": 4,
      "outputs": [
        {
          "output_type": "display_data",
          "data": {
            "text/plain": [
              "     [,1] [,2] [,3]\n",
              "[1,] 1    4    7   \n",
              "[2,] 2    5    8   \n",
              "[3,] 3    6    9   "
            ],
            "text/latex": "A matrix: 3 × 3 of type int\n\\begin{tabular}{lll}\n\t 1 & 4 & 7\\\\\n\t 2 & 5 & 8\\\\\n\t 3 & 6 & 9\\\\\n\\end{tabular}\n",
            "text/markdown": "\nA matrix: 3 × 3 of type int\n\n| 1 | 4 | 7 |\n| 2 | 5 | 8 |\n| 3 | 6 | 9 |\n\n",
            "text/html": [
              "<table class=\"dataframe\">\n",
              "<caption>A matrix: 3 × 3 of type int</caption>\n",
              "<tbody>\n",
              "\t<tr><td>1</td><td>4</td><td>7</td></tr>\n",
              "\t<tr><td>2</td><td>5</td><td>8</td></tr>\n",
              "\t<tr><td>3</td><td>6</td><td>9</td></tr>\n",
              "</tbody>\n",
              "</table>\n"
            ]
          },
          "metadata": {
            "tags": []
          }
        },
        {
          "output_type": "display_data",
          "data": {
            "text/plain": [
              "     [,1] [,2] [,3]\n",
              "[1,] 4     8   12  \n",
              "[2,] 5     9   13  \n",
              "[3,] 6    10   14  \n",
              "[4,] 7    11   15  "
            ],
            "text/latex": "A matrix: 4 × 3 of type int\n\\begin{tabular}{lll}\n\t 4 &  8 & 12\\\\\n\t 5 &  9 & 13\\\\\n\t 6 & 10 & 14\\\\\n\t 7 & 11 & 15\\\\\n\\end{tabular}\n",
            "text/markdown": "\nA matrix: 4 × 3 of type int\n\n| 4 |  8 | 12 |\n| 5 |  9 | 13 |\n| 6 | 10 | 14 |\n| 7 | 11 | 15 |\n\n",
            "text/html": [
              "<table class=\"dataframe\">\n",
              "<caption>A matrix: 4 × 3 of type int</caption>\n",
              "<tbody>\n",
              "\t<tr><td>4</td><td> 8</td><td>12</td></tr>\n",
              "\t<tr><td>5</td><td> 9</td><td>13</td></tr>\n",
              "\t<tr><td>6</td><td>10</td><td>14</td></tr>\n",
              "\t<tr><td>7</td><td>11</td><td>15</td></tr>\n",
              "</tbody>\n",
              "</table>\n"
            ]
          },
          "metadata": {
            "tags": []
          }
        },
        {
          "output_type": "display_data",
          "data": {
            "text/plain": [
              "     [,1] [,2]\n",
              "[1,]  8    8  \n",
              "[2,]  9    9  \n",
              "[3,] 10   10  "
            ],
            "text/latex": "A matrix: 3 × 2 of type int\n\\begin{tabular}{ll}\n\t  8 &  8\\\\\n\t  9 &  9\\\\\n\t 10 & 10\\\\\n\\end{tabular}\n",
            "text/markdown": "\nA matrix: 3 × 2 of type int\n\n|  8 |  8 |\n|  9 |  9 |\n| 10 | 10 |\n\n",
            "text/html": [
              "<table class=\"dataframe\">\n",
              "<caption>A matrix: 3 × 2 of type int</caption>\n",
              "<tbody>\n",
              "\t<tr><td> 8</td><td> 8</td></tr>\n",
              "\t<tr><td> 9</td><td> 9</td></tr>\n",
              "\t<tr><td>10</td><td>10</td></tr>\n",
              "</tbody>\n",
              "</table>\n"
            ]
          },
          "metadata": {
            "tags": []
          }
        },
        {
          "output_type": "display_data",
          "data": {
            "text/plain": [
              "[[1]]\n",
              "     [,1] [,2] [,3]\n",
              "[1,]    1    4    7\n",
              "[2,]    2    5    8\n",
              "[3,]    3    6    9\n",
              "\n",
              "[[2]]\n",
              "     [,1] [,2] [,3]\n",
              "[1,]    4    8   12\n",
              "[2,]    5    9   13\n",
              "[3,]    6   10   14\n",
              "[4,]    7   11   15\n",
              "\n",
              "[[3]]\n",
              "     [,1] [,2]\n",
              "[1,]    8    8\n",
              "[2,]    9    9\n",
              "[3,]   10   10\n"
            ],
            "text/latex": "\\begin{enumerate}\n\\item A matrix: 3 × 3 of type int\n\\begin{tabular}{lll}\n\t 1 & 4 & 7\\\\\n\t 2 & 5 & 8\\\\\n\t 3 & 6 & 9\\\\\n\\end{tabular}\n\n\\item A matrix: 4 × 3 of type int\n\\begin{tabular}{lll}\n\t 4 &  8 & 12\\\\\n\t 5 &  9 & 13\\\\\n\t 6 & 10 & 14\\\\\n\t 7 & 11 & 15\\\\\n\\end{tabular}\n\n\\item A matrix: 3 × 2 of type int\n\\begin{tabular}{ll}\n\t  8 &  8\\\\\n\t  9 &  9\\\\\n\t 10 & 10\\\\\n\\end{tabular}\n\n\\end{enumerate}\n",
            "text/markdown": "1. \nA matrix: 3 × 3 of type int\n\n| 1 | 4 | 7 |\n| 2 | 5 | 8 |\n| 3 | 6 | 9 |\n\n\n2. \nA matrix: 4 × 3 of type int\n\n| 4 |  8 | 12 |\n| 5 |  9 | 13 |\n| 6 | 10 | 14 |\n| 7 | 11 | 15 |\n\n\n3. \nA matrix: 3 × 2 of type int\n\n|  8 |  8 |\n|  9 |  9 |\n| 10 | 10 |\n\n\n\n\n",
            "text/html": [
              "<ol>\n",
              "\t<li><table class=\"dataframe\">\n",
              "<caption>A matrix: 3 × 3 of type int</caption>\n",
              "<tbody>\n",
              "\t<tr><td>1</td><td>4</td><td>7</td></tr>\n",
              "\t<tr><td>2</td><td>5</td><td>8</td></tr>\n",
              "\t<tr><td>3</td><td>6</td><td>9</td></tr>\n",
              "</tbody>\n",
              "</table>\n",
              "</li>\n",
              "\t<li><table class=\"dataframe\">\n",
              "<caption>A matrix: 4 × 3 of type int</caption>\n",
              "<tbody>\n",
              "\t<tr><td>4</td><td> 8</td><td>12</td></tr>\n",
              "\t<tr><td>5</td><td> 9</td><td>13</td></tr>\n",
              "\t<tr><td>6</td><td>10</td><td>14</td></tr>\n",
              "\t<tr><td>7</td><td>11</td><td>15</td></tr>\n",
              "</tbody>\n",
              "</table>\n",
              "</li>\n",
              "\t<li><table class=\"dataframe\">\n",
              "<caption>A matrix: 3 × 2 of type int</caption>\n",
              "<tbody>\n",
              "\t<tr><td> 8</td><td> 8</td></tr>\n",
              "\t<tr><td> 9</td><td> 9</td></tr>\n",
              "\t<tr><td>10</td><td>10</td></tr>\n",
              "</tbody>\n",
              "</table>\n",
              "</li>\n",
              "</ol>\n"
            ]
          },
          "metadata": {
            "tags": []
          }
        }
      ]
    },
    {
      "cell_type": "code",
      "metadata": {
        "colab": {
          "base_uri": "https://localhost:8080/",
          "height": 210
        },
        "id": "9c_yF_kxdpfn",
        "outputId": "22e93c1d-172f-4c87-f660-a14e090a64cd"
      },
      "source": [
        "# Using lapply and [ operator Extract the 2nd column from `MyList` with the selection operator `[` with `lapply()`\n",
        "lapply(MyList, '[', , 2)\n",
        "\n",
        "# Using lapply and [ operator Extract the 4th row from `MyList` with the selection operator `[` with `lapply()`\n",
        "lapply(MyList, '[', 4, )\n",
        "#Error because matrix A and C have 3 rows."
      ],
      "execution_count": 5,
      "outputs": [
        {
          "output_type": "display_data",
          "data": {
            "text/plain": [
              "[[1]]\n",
              "[1] 4 5 6\n",
              "\n",
              "[[2]]\n",
              "[1]  8  9 10 11\n",
              "\n",
              "[[3]]\n",
              "[1]  8  9 10\n"
            ],
            "text/latex": "\\begin{enumerate}\n\\item \\begin{enumerate*}\n\\item 4\n\\item 5\n\\item 6\n\\end{enumerate*}\n\n\\item \\begin{enumerate*}\n\\item 8\n\\item 9\n\\item 10\n\\item 11\n\\end{enumerate*}\n\n\\item \\begin{enumerate*}\n\\item 8\n\\item 9\n\\item 10\n\\end{enumerate*}\n\n\\end{enumerate}\n",
            "text/markdown": "1. 1. 4\n2. 5\n3. 6\n\n\n\n2. 1. 8\n2. 9\n3. 10\n4. 11\n\n\n\n3. 1. 8\n2. 9\n3. 10\n\n\n\n\n\n",
            "text/html": [
              "<ol>\n",
              "\t<li><style>\n",
              ".list-inline {list-style: none; margin:0; padding: 0}\n",
              ".list-inline>li {display: inline-block}\n",
              ".list-inline>li:not(:last-child)::after {content: \"\\00b7\"; padding: 0 .5ex}\n",
              "</style>\n",
              "<ol class=list-inline><li>4</li><li>5</li><li>6</li></ol>\n",
              "</li>\n",
              "\t<li><style>\n",
              ".list-inline {list-style: none; margin:0; padding: 0}\n",
              ".list-inline>li {display: inline-block}\n",
              ".list-inline>li:not(:last-child)::after {content: \"\\00b7\"; padding: 0 .5ex}\n",
              "</style>\n",
              "<ol class=list-inline><li>8</li><li>9</li><li>10</li><li>11</li></ol>\n",
              "</li>\n",
              "\t<li><style>\n",
              ".list-inline {list-style: none; margin:0; padding: 0}\n",
              ".list-inline>li {display: inline-block}\n",
              ".list-inline>li:not(:last-child)::after {content: \"\\00b7\"; padding: 0 .5ex}\n",
              "</style>\n",
              "<ol class=list-inline><li>8</li><li>9</li><li>10</li></ol>\n",
              "</li>\n",
              "</ol>\n"
            ]
          },
          "metadata": {
            "tags": []
          }
        },
        {
          "output_type": "error",
          "ename": "ERROR",
          "evalue": "ignored",
          "traceback": [
            "Error in FUN(X[[i]], ...): subscript out of bounds\nTraceback:\n",
            "1. lapply(MyList, \"[\", 4, )"
          ]
        }
      ]
    },
    {
      "cell_type": "code",
      "metadata": {
        "id": "t1NiVDAYd0Sd",
        "outputId": "72c8e5bd-1ee5-4030-f19a-8da299735ae4",
        "colab": {
          "base_uri": "https://localhost:8080/",
          "height": 94
        }
      },
      "source": [
        "# Using lapply and [ operator Extract the 1st row from `MyList` with the selection operator `[` with `lapply()`\n",
        "lapply(MyList, '[', 1, )"
      ],
      "execution_count": 6,
      "outputs": [
        {
          "output_type": "display_data",
          "data": {
            "text/plain": [
              "[[1]]\n",
              "[1] 1 4 7\n",
              "\n",
              "[[2]]\n",
              "[1]  4  8 12\n",
              "\n",
              "[[3]]\n",
              "[1] 8 8\n"
            ],
            "text/latex": "\\begin{enumerate}\n\\item \\begin{enumerate*}\n\\item 1\n\\item 4\n\\item 7\n\\end{enumerate*}\n\n\\item \\begin{enumerate*}\n\\item 4\n\\item 8\n\\item 12\n\\end{enumerate*}\n\n\\item \\begin{enumerate*}\n\\item 8\n\\item 8\n\\end{enumerate*}\n\n\\end{enumerate}\n",
            "text/markdown": "1. 1. 1\n2. 4\n3. 7\n\n\n\n2. 1. 4\n2. 8\n3. 12\n\n\n\n3. 1. 8\n2. 8\n\n\n\n\n\n",
            "text/html": [
              "<ol>\n",
              "\t<li><style>\n",
              ".list-inline {list-style: none; margin:0; padding: 0}\n",
              ".list-inline>li {display: inline-block}\n",
              ".list-inline>li:not(:last-child)::after {content: \"\\00b7\"; padding: 0 .5ex}\n",
              "</style>\n",
              "<ol class=list-inline><li>1</li><li>4</li><li>7</li></ol>\n",
              "</li>\n",
              "\t<li><style>\n",
              ".list-inline {list-style: none; margin:0; padding: 0}\n",
              ".list-inline>li {display: inline-block}\n",
              ".list-inline>li:not(:last-child)::after {content: \"\\00b7\"; padding: 0 .5ex}\n",
              "</style>\n",
              "<ol class=list-inline><li>4</li><li>8</li><li>12</li></ol>\n",
              "</li>\n",
              "\t<li><style>\n",
              ".list-inline {list-style: none; margin:0; padding: 0}\n",
              ".list-inline>li {display: inline-block}\n",
              ".list-inline>li:not(:last-child)::after {content: \"\\00b7\"; padding: 0 .5ex}\n",
              "</style>\n",
              "<ol class=list-inline><li>8</li><li>8</li></ol>\n",
              "</li>\n",
              "</ol>\n"
            ]
          },
          "metadata": {
            "tags": []
          }
        }
      ]
    },
    {
      "cell_type": "markdown",
      "metadata": {
        "id": "G0kWHtRVjDjw"
      },
      "source": [
        "The **sapply()** Function\n",
        "\n",
        "The **sapply()** function works like **lapply()**, but it tries to simplify the output to the most elementary data structure that is possible. And indeed, ```sapply()``` is a **‘wrapper’** function for **lapply()**.\n",
        "\n",
        "Let’s repeat the extraction operation of a single element as in the last example, but now take the first element of the second row (indexes 2 and 1) for each matrix.\n",
        "\n",
        "Applying the **lapply()** function would give us a list unless you pass ```simplify=FALSE``` as a parameter to **sapply()**. Then, a list will be returned. See how it works in the code chunk below:\n",
        "\n"
      ]
    },
    {
      "cell_type": "code",
      "metadata": {
        "id": "RxXnDh47jiBF",
        "outputId": "cc8d5be3-7b5a-4eca-c352-353132ef62e7",
        "colab": {
          "base_uri": "https://localhost:8080/",
          "height": 206
        }
      },
      "source": [
        "# Return a list with `lapply()`\n",
        "lapply(MyList,\"[\", 2, 1 )\n",
        "\n",
        "# Return a vector with `sapply()`\n",
        "sapply(MyList,\"[\", 2, 1 )\n",
        "\n",
        "# Return a list with `sapply()`\n",
        "sapply(MyList,\"[\", 2, 1, simplify=F)\n",
        "\n",
        "# Return a vector with `unlist()`\n",
        "unlist(lapply(MyList,\"[\", 2, 1 ))"
      ],
      "execution_count": 7,
      "outputs": [
        {
          "output_type": "display_data",
          "data": {
            "text/plain": [
              "[[1]]\n",
              "[1] 2\n",
              "\n",
              "[[2]]\n",
              "[1] 5\n",
              "\n",
              "[[3]]\n",
              "[1] 9\n"
            ],
            "text/latex": "\\begin{enumerate}\n\\item 2\n\\item 5\n\\item 9\n\\end{enumerate}\n",
            "text/markdown": "1. 2\n2. 5\n3. 9\n\n\n",
            "text/html": [
              "<ol>\n",
              "\t<li>2</li>\n",
              "\t<li>5</li>\n",
              "\t<li>9</li>\n",
              "</ol>\n"
            ]
          },
          "metadata": {
            "tags": []
          }
        },
        {
          "output_type": "display_data",
          "data": {
            "text/plain": [
              "[1] 2 5 9"
            ],
            "text/latex": "\\begin{enumerate*}\n\\item 2\n\\item 5\n\\item 9\n\\end{enumerate*}\n",
            "text/markdown": "1. 2\n2. 5\n3. 9\n\n\n",
            "text/html": [
              "<style>\n",
              ".list-inline {list-style: none; margin:0; padding: 0}\n",
              ".list-inline>li {display: inline-block}\n",
              ".list-inline>li:not(:last-child)::after {content: \"\\00b7\"; padding: 0 .5ex}\n",
              "</style>\n",
              "<ol class=list-inline><li>2</li><li>5</li><li>9</li></ol>\n"
            ]
          },
          "metadata": {
            "tags": []
          }
        },
        {
          "output_type": "display_data",
          "data": {
            "text/plain": [
              "[[1]]\n",
              "[1] 2\n",
              "\n",
              "[[2]]\n",
              "[1] 5\n",
              "\n",
              "[[3]]\n",
              "[1] 9\n"
            ],
            "text/latex": "\\begin{enumerate}\n\\item 2\n\\item 5\n\\item 9\n\\end{enumerate}\n",
            "text/markdown": "1. 2\n2. 5\n3. 9\n\n\n",
            "text/html": [
              "<ol>\n",
              "\t<li>2</li>\n",
              "\t<li>5</li>\n",
              "\t<li>9</li>\n",
              "</ol>\n"
            ]
          },
          "metadata": {
            "tags": []
          }
        },
        {
          "output_type": "display_data",
          "data": {
            "text/plain": [
              "[1] 2 5 9"
            ],
            "text/latex": "\\begin{enumerate*}\n\\item 2\n\\item 5\n\\item 9\n\\end{enumerate*}\n",
            "text/markdown": "1. 2\n2. 5\n3. 9\n\n\n",
            "text/html": [
              "<style>\n",
              ".list-inline {list-style: none; margin:0; padding: 0}\n",
              ".list-inline>li {display: inline-block}\n",
              ".list-inline>li:not(:last-child)::after {content: \"\\00b7\"; padding: 0 .5ex}\n",
              "</style>\n",
              "<ol class=list-inline><li>2</li><li>5</li><li>9</li></ol>\n"
            ]
          },
          "metadata": {
            "tags": []
          }
        }
      ]
    },
    {
      "cell_type": "markdown",
      "metadata": {
        "id": "WuuRcW03kJyA"
      },
      "source": [
        "In this Text Block Write note on mapply function and give exampe code and exaplain use of mapply function.\n",
        "\n",
        "Ans:\n",
        "mapply can be used to call a function FUN over vectors or lists one index at a time. In other words the function is first called over elements at index 1 of all vectors or list, its then called over all elements at index 2 and so on.  \n"
      ]
    },
    {
      "cell_type": "code",
      "metadata": {
        "id": "pos2C33ujiEh",
        "outputId": "6449a014-dbe2-4526-dd1d-329680859184",
        "colab": {
          "base_uri": "https://localhost:8080/",
          "height": 127
        }
      },
      "source": [
        "# Example use of mapply function\n",
        "mapply(rep, 1:5, 5:1)\n",
        "#This passes the sequence 1:4 to the first argument of rep() and the sequence 4:1 to the second argument."
      ],
      "execution_count": 8,
      "outputs": [
        {
          "output_type": "display_data",
          "data": {
            "text/plain": [
              "[[1]]\n",
              "[1] 1 1 1 1 1\n",
              "\n",
              "[[2]]\n",
              "[1] 2 2 2 2\n",
              "\n",
              "[[3]]\n",
              "[1] 3 3 3\n",
              "\n",
              "[[4]]\n",
              "[1] 4 4\n",
              "\n",
              "[[5]]\n",
              "[1] 5\n"
            ],
            "text/latex": "\\begin{enumerate}\n\\item \\begin{enumerate*}\n\\item 1\n\\item 1\n\\item 1\n\\item 1\n\\item 1\n\\end{enumerate*}\n\n\\item \\begin{enumerate*}\n\\item 2\n\\item 2\n\\item 2\n\\item 2\n\\end{enumerate*}\n\n\\item \\begin{enumerate*}\n\\item 3\n\\item 3\n\\item 3\n\\end{enumerate*}\n\n\\item \\begin{enumerate*}\n\\item 4\n\\item 4\n\\end{enumerate*}\n\n\\item 5\n\\end{enumerate}\n",
            "text/markdown": "1. 1. 1\n2. 1\n3. 1\n4. 1\n5. 1\n\n\n\n2. 1. 2\n2. 2\n3. 2\n4. 2\n\n\n\n3. 1. 3\n2. 3\n3. 3\n\n\n\n4. 1. 4\n2. 4\n\n\n\n5. 5\n\n\n",
            "text/html": [
              "<ol>\n",
              "\t<li><style>\n",
              ".list-inline {list-style: none; margin:0; padding: 0}\n",
              ".list-inline>li {display: inline-block}\n",
              ".list-inline>li:not(:last-child)::after {content: \"\\00b7\"; padding: 0 .5ex}\n",
              "</style>\n",
              "<ol class=list-inline><li>1</li><li>1</li><li>1</li><li>1</li><li>1</li></ol>\n",
              "</li>\n",
              "\t<li><style>\n",
              ".list-inline {list-style: none; margin:0; padding: 0}\n",
              ".list-inline>li {display: inline-block}\n",
              ".list-inline>li:not(:last-child)::after {content: \"\\00b7\"; padding: 0 .5ex}\n",
              "</style>\n",
              "<ol class=list-inline><li>2</li><li>2</li><li>2</li><li>2</li></ol>\n",
              "</li>\n",
              "\t<li><style>\n",
              ".list-inline {list-style: none; margin:0; padding: 0}\n",
              ".list-inline>li {display: inline-block}\n",
              ".list-inline>li:not(:last-child)::after {content: \"\\00b7\"; padding: 0 .5ex}\n",
              "</style>\n",
              "<ol class=list-inline><li>3</li><li>3</li><li>3</li></ol>\n",
              "</li>\n",
              "\t<li><style>\n",
              ".list-inline {list-style: none; margin:0; padding: 0}\n",
              ".list-inline>li {display: inline-block}\n",
              ".list-inline>li:not(:last-child)::after {content: \"\\00b7\"; padding: 0 .5ex}\n",
              "</style>\n",
              "<ol class=list-inline><li>4</li><li>4</li></ol>\n",
              "</li>\n",
              "\t<li>5</li>\n",
              "</ol>\n"
            ]
          },
          "metadata": {
            "tags": []
          }
        }
      ]
    },
    {
      "cell_type": "markdown",
      "metadata": {
        "id": "bvSq6g63fo0g"
      },
      "source": [
        " Example: \n",
        " It takes in two parameters x and y. The values of x come from the second argument (x=c(2,3)) and the values of y come from the 3rd argument (y=c(3,4)). x and y both have two values so the function is called twice. The first time its called with the first values of x and y (x=2 and y =3 which gives 8). The second time its called with the second values of x and y (x=3 and y=4 which gives 81)"
      ]
    },
    {
      "cell_type": "code",
      "metadata": {
        "id": "SB5wOiSLe-Zs",
        "outputId": "20945736-7eab-4fe5-b3e4-92a71c381957",
        "colab": {
          "base_uri": "https://localhost:8080/",
          "height": 33
        }
      },
      "source": [
        " mapply(function(x,y){x^y},x=c(2,3),y=c(3,4))\n"
      ],
      "execution_count": 9,
      "outputs": [
        {
          "output_type": "display_data",
          "data": {
            "text/plain": [
              "[1]  8 81"
            ],
            "text/latex": "\\begin{enumerate*}\n\\item 8\n\\item 81\n\\end{enumerate*}\n",
            "text/markdown": "1. 8\n2. 81\n\n\n",
            "text/html": [
              "<style>\n",
              ".list-inline {list-style: none; margin:0; padding: 0}\n",
              ".list-inline>li {display: inline-block}\n",
              ".list-inline>li:not(:last-child)::after {content: \"\\00b7\"; padding: 0 .5ex}\n",
              "</style>\n",
              "<ol class=list-inline><li>8</li><li>81</li></ol>\n"
            ]
          },
          "metadata": {
            "tags": []
          }
        }
      ]
    },
    {
      "cell_type": "markdown",
      "metadata": {
        "id": "76Ry86xlfuUL"
      },
      "source": [
        ""
      ]
    }
  ]
}