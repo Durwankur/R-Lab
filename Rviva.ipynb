{
  "nbformat": 4,
  "nbformat_minor": 0,
  "metadata": {
    "colab": {
      "name": "viva.ipynb",
      "provenance": [],
      "authorship_tag": "ABX9TyOyrB0glERIYLAglkbyjuEC",
      "include_colab_link": true
    },
    "kernelspec": {
      "name": "ir",
      "display_name": "R"
    },
    "language_info": {
      "name": "R"
    }
  },
  "cells": [
    {
      "cell_type": "markdown",
      "metadata": {
        "id": "view-in-github",
        "colab_type": "text"
      },
      "source": [
        "<a href=\"https://colab.research.google.com/github/Durwankur/R-Lab/blob/main/Rviva.ipynb\" target=\"_parent\"><img src=\"https://colab.research.google.com/assets/colab-badge.svg\" alt=\"Open In Colab\"/></a>"
      ]
    },
    {
      "cell_type": "code",
      "metadata": {
        "id": "zeXYUeR-oDJf"
      },
      "source": [
        "id <- \"1Pr3g6vCpLP-YD6wDiy2s2H77TG_QXdgi\" # google file ID\n",
        "data <- read.csv(sprintf(\"https://docs.google.com/uc?id=%s&export=download\", id))"
      ],
      "execution_count": 1,
      "outputs": []
    },
    {
      "cell_type": "markdown",
      "metadata": {
        "id": "QKJZckuexd8j"
      },
      "source": [
        "Task Number 1:"
      ]
    },
    {
      "cell_type": "code",
      "metadata": {
        "colab": {
          "base_uri": "https://localhost:8080/"
        },
        "id": "0n_VHIJzpD6s",
        "outputId": "60db360a-0938-43d5-8ae1-1ccab6b6afcd"
      },
      "source": [
        "# a. summarize the entire data using apropriate R Command.\n",
        "library(dplyr)\n",
        "glimpse(data)\n"
      ],
      "execution_count": 2,
      "outputs": [
        {
          "output_type": "stream",
          "text": [
            "\n",
            "Attaching package: ‘dplyr’\n",
            "\n",
            "\n",
            "The following objects are masked from ‘package:stats’:\n",
            "\n",
            "    filter, lag\n",
            "\n",
            "\n",
            "The following objects are masked from ‘package:base’:\n",
            "\n",
            "    intersect, setdiff, setequal, union\n",
            "\n",
            "\n"
          ],
          "name": "stderr"
        },
        {
          "output_type": "stream",
          "text": [
            "Rows: 303\n",
            "Columns: 14\n",
            "$ age      \u001b[3m\u001b[90m<int>\u001b[39m\u001b[23m 63, 37, 41, 56, 57, 57, 56, 44, 52, 57, 54, 48, 49, 64, 58, 5…\n",
            "$ sex      \u001b[3m\u001b[90m<int>\u001b[39m\u001b[23m 1, 1, 0, 1, 0, 1, 0, 1, 1, 1, 1, 0, 1, 1, 0, 0, 0, 0, 1, 0, 1…\n",
            "$ cp       \u001b[3m\u001b[90m<int>\u001b[39m\u001b[23m 3, 2, 1, 1, 0, 0, 1, 1, 2, 2, 0, 2, 1, 3, 3, 2, 2, 3, 0, 3, 0…\n",
            "$ trestbps \u001b[3m\u001b[90m<int>\u001b[39m\u001b[23m 145, 130, 130, 120, 120, 140, 140, 120, 172, 150, 140, 130, 1…\n",
            "$ chol     \u001b[3m\u001b[90m<int>\u001b[39m\u001b[23m 233, 250, 204, 236, 354, 192, 294, 263, 199, 168, 239, 275, 2…\n",
            "$ fbs      \u001b[3m\u001b[90m<int>\u001b[39m\u001b[23m 1, 0, 0, 0, 0, 0, 0, 0, 1, 0, 0, 0, 0, 0, 1, 0, 0, 0, 0, 0, 0…\n",
            "$ restecg  \u001b[3m\u001b[90m<int>\u001b[39m\u001b[23m 0, 1, 0, 1, 1, 1, 0, 1, 1, 1, 1, 1, 1, 0, 0, 1, 1, 1, 1, 1, 1…\n",
            "$ thalach  \u001b[3m\u001b[90m<int>\u001b[39m\u001b[23m 150, 187, 172, 178, 163, 148, 153, 173, 162, 174, 160, 139, 1…\n",
            "$ exang    \u001b[3m\u001b[90m<int>\u001b[39m\u001b[23m 0, 0, 0, 0, 1, 0, 0, 0, 0, 0, 0, 0, 0, 1, 0, 0, 0, 0, 0, 0, 0…\n",
            "$ oldpeak  \u001b[3m\u001b[90m<dbl>\u001b[39m\u001b[23m 2.3, 3.5, 1.4, 0.8, 0.6, 0.4, 1.3, 0.0, 0.5, 1.6, 1.2, 0.2, 0…\n",
            "$ slope    \u001b[3m\u001b[90m<int>\u001b[39m\u001b[23m 0, 0, 2, 2, 2, 1, 1, 2, 2, 2, 2, 2, 2, 1, 2, 1, 2, 0, 2, 2, 1…\n",
            "$ ca       \u001b[3m\u001b[90m<int>\u001b[39m\u001b[23m 0, 0, 0, 0, 0, 0, 0, 0, 0, 0, 0, 0, 0, 0, 0, 0, 0, 0, 0, 2, 0…\n",
            "$ thal     \u001b[3m\u001b[90m<int>\u001b[39m\u001b[23m 1, 2, 2, 2, 2, 1, 2, 3, 3, 2, 2, 2, 2, 2, 2, 2, 2, 2, 2, 2, 3…\n",
            "$ target   \u001b[3m\u001b[90m<int>\u001b[39m\u001b[23m 1, 1, 1, 1, 1, 1, 1, 1, 1, 1, 1, 1, 1, 1, 1, 1, 1, 1, 1, 1, 1…\n"
          ],
          "name": "stdout"
        }
      ]
    },
    {
      "cell_type": "code",
      "metadata": {
        "colab": {
          "base_uri": "https://localhost:8080/",
          "height": 33
        },
        "id": "R9b0CtBwuSqn",
        "outputId": "4d81b80a-5d3f-4cdf-ad56-b298a1126a82"
      },
      "source": [
        "# b. show class of variable holding data\n",
        "class(data)"
      ],
      "execution_count": 3,
      "outputs": [
        {
          "output_type": "display_data",
          "data": {
            "text/plain": [
              "[1] \"data.frame\""
            ],
            "text/latex": "'data.frame'",
            "text/markdown": "'data.frame'",
            "text/html": [
              "'data.frame'"
            ]
          },
          "metadata": {
            "tags": []
          }
        }
      ]
    },
    {
      "cell_type": "code",
      "metadata": {
        "colab": {
          "base_uri": "https://localhost:8080/",
          "height": 514
        },
        "id": "CW0ywWvkvJKE",
        "outputId": "fa27f731-1dd7-4593-c963-17c385008c2a"
      },
      "source": [
        "# c. Obtain 5 point statistical summary for all attributes\n",
        "summary(data)"
      ],
      "execution_count": 4,
      "outputs": [
        {
          "output_type": "display_data",
          "data": {
            "text/plain": [
              "      age             sex               cp           trestbps    \n",
              " Min.   :29.00   Min.   :0.0000   Min.   :0.000   Min.   : 94.0  \n",
              " 1st Qu.:47.50   1st Qu.:0.0000   1st Qu.:0.000   1st Qu.:120.0  \n",
              " Median :55.00   Median :1.0000   Median :1.000   Median :130.0  \n",
              " Mean   :54.37   Mean   :0.6832   Mean   :0.967   Mean   :131.6  \n",
              " 3rd Qu.:61.00   3rd Qu.:1.0000   3rd Qu.:2.000   3rd Qu.:140.0  \n",
              " Max.   :77.00   Max.   :1.0000   Max.   :3.000   Max.   :200.0  \n",
              "      chol            fbs            restecg          thalach     \n",
              " Min.   :126.0   Min.   :0.0000   Min.   :0.0000   Min.   : 71.0  \n",
              " 1st Qu.:211.0   1st Qu.:0.0000   1st Qu.:0.0000   1st Qu.:133.5  \n",
              " Median :240.0   Median :0.0000   Median :1.0000   Median :153.0  \n",
              " Mean   :246.3   Mean   :0.1485   Mean   :0.5281   Mean   :149.6  \n",
              " 3rd Qu.:274.5   3rd Qu.:0.0000   3rd Qu.:1.0000   3rd Qu.:166.0  \n",
              " Max.   :564.0   Max.   :1.0000   Max.   :2.0000   Max.   :202.0  \n",
              "     exang           oldpeak         slope             ca        \n",
              " Min.   :0.0000   Min.   :0.00   Min.   :0.000   Min.   :0.0000  \n",
              " 1st Qu.:0.0000   1st Qu.:0.00   1st Qu.:1.000   1st Qu.:0.0000  \n",
              " Median :0.0000   Median :0.80   Median :1.000   Median :0.0000  \n",
              " Mean   :0.3267   Mean   :1.04   Mean   :1.399   Mean   :0.7294  \n",
              " 3rd Qu.:1.0000   3rd Qu.:1.60   3rd Qu.:2.000   3rd Qu.:1.0000  \n",
              " Max.   :1.0000   Max.   :6.20   Max.   :2.000   Max.   :4.0000  \n",
              "      thal           target      \n",
              " Min.   :0.000   Min.   :0.0000  \n",
              " 1st Qu.:2.000   1st Qu.:0.0000  \n",
              " Median :2.000   Median :1.0000  \n",
              " Mean   :2.314   Mean   :0.5446  \n",
              " 3rd Qu.:3.000   3rd Qu.:1.0000  \n",
              " Max.   :3.000   Max.   :1.0000  "
            ]
          },
          "metadata": {
            "tags": []
          }
        }
      ]
    },
    {
      "cell_type": "code",
      "metadata": {
        "colab": {
          "base_uri": "https://localhost:8080/",
          "height": 265
        },
        "id": "H76V4M8fvb9N",
        "outputId": "3851b082-b6ec-48c9-adba-60ecd591b886"
      },
      "source": [
        "# d. select any 2 atributes that are continuous valued and create a subset of original data with only those columns. \n",
        "# (e.g. sample_data(col1,col2, col3) is stored in variable my_data where as variable data_slice has only col2 and col3 and no other columns. Num of rows in both must be same.)\n",
        "\n",
        "\n",
        "data_slice <- data %>% select(age:fbs)\n",
        "summary(data_slice)"
      ],
      "execution_count": 5,
      "outputs": [
        {
          "output_type": "display_data",
          "data": {
            "text/plain": [
              "      age             sex               cp           trestbps    \n",
              " Min.   :29.00   Min.   :0.0000   Min.   :0.000   Min.   : 94.0  \n",
              " 1st Qu.:47.50   1st Qu.:0.0000   1st Qu.:0.000   1st Qu.:120.0  \n",
              " Median :55.00   Median :1.0000   Median :1.000   Median :130.0  \n",
              " Mean   :54.37   Mean   :0.6832   Mean   :0.967   Mean   :131.6  \n",
              " 3rd Qu.:61.00   3rd Qu.:1.0000   3rd Qu.:2.000   3rd Qu.:140.0  \n",
              " Max.   :77.00   Max.   :1.0000   Max.   :3.000   Max.   :200.0  \n",
              "      chol            fbs        \n",
              " Min.   :126.0   Min.   :0.0000  \n",
              " 1st Qu.:211.0   1st Qu.:0.0000  \n",
              " Median :240.0   Median :0.0000  \n",
              " Mean   :246.3   Mean   :0.1485  \n",
              " 3rd Qu.:274.5   3rd Qu.:0.0000  \n",
              " Max.   :564.0   Max.   :1.0000  "
            ]
          },
          "metadata": {
            "tags": []
          }
        }
      ]
    },
    {
      "cell_type": "code",
      "metadata": {
        "id": "cUV2vjEqxAaU"
      },
      "source": [
        "# e. Write R function to sample tuples starting at index N to N+m from any data set provided.\n"
      ],
      "execution_count": 6,
      "outputs": []
    },
    {
      "cell_type": "markdown",
      "metadata": {
        "id": "6uIMM8JtxUxO"
      },
      "source": [
        "Task Number 2: "
      ]
    },
    {
      "cell_type": "code",
      "metadata": {
        "colab": {
          "base_uri": "https://localhost:8080/",
          "height": 33
        },
        "id": "xh3CvoD_xbsr",
        "outputId": "70487273-deda-4d4a-8cb6-bd7b04575ea8"
      },
      "source": [
        "# a. find out how many values are missing in each of the columns of your data set.\n",
        "sapply(data, function(x) sum(is.na(x)))"
      ],
      "execution_count": 7,
      "outputs": [
        {
          "output_type": "display_data",
          "data": {
            "text/plain": [
              "     age      sex       cp trestbps     chol      fbs  restecg  thalach \n",
              "       0        0        0        0        0        0        0        0 \n",
              "   exang  oldpeak    slope       ca     thal   target \n",
              "       0        0        0        0        0        0 "
            ],
            "text/latex": "\\begin{description*}\n\\item[age] 0\n\\item[sex] 0\n\\item[cp] 0\n\\item[trestbps] 0\n\\item[chol] 0\n\\item[fbs] 0\n\\item[restecg] 0\n\\item[thalach] 0\n\\item[exang] 0\n\\item[oldpeak] 0\n\\item[slope] 0\n\\item[ca] 0\n\\item[thal] 0\n\\item[target] 0\n\\end{description*}\n",
            "text/markdown": "age\n:   0sex\n:   0cp\n:   0trestbps\n:   0chol\n:   0fbs\n:   0restecg\n:   0thalach\n:   0exang\n:   0oldpeak\n:   0slope\n:   0ca\n:   0thal\n:   0target\n:   0\n\n",
            "text/html": [
              "<style>\n",
              ".dl-inline {width: auto; margin:0; padding: 0}\n",
              ".dl-inline>dt, .dl-inline>dd {float: none; width: auto; display: inline-block}\n",
              ".dl-inline>dt::after {content: \":\\0020\"; padding-right: .5ex}\n",
              ".dl-inline>dt:not(:first-of-type) {padding-left: .5ex}\n",
              "</style><dl class=dl-inline><dt>age</dt><dd>0</dd><dt>sex</dt><dd>0</dd><dt>cp</dt><dd>0</dd><dt>trestbps</dt><dd>0</dd><dt>chol</dt><dd>0</dd><dt>fbs</dt><dd>0</dd><dt>restecg</dt><dd>0</dd><dt>thalach</dt><dd>0</dd><dt>exang</dt><dd>0</dd><dt>oldpeak</dt><dd>0</dd><dt>slope</dt><dd>0</dd><dt>ca</dt><dd>0</dd><dt>thal</dt><dd>0</dd><dt>target</dt><dd>0</dd></dl>\n"
            ]
          },
          "metadata": {
            "tags": []
          }
        }
      ]
    },
    {
      "cell_type": "code",
      "metadata": {
        "id": "l8bzcW6RyxZi"
      },
      "source": [
        "# b. select colum with more than 10% values missing for deletation. Create new copy of dataset\n",
        "# that has one less column call it sample_data_1less.\n"
      ],
      "execution_count": 8,
      "outputs": []
    },
    {
      "cell_type": "code",
      "metadata": {
        "colab": {
          "base_uri": "https://localhost:8080/",
          "height": 514
        },
        "id": "WgTXGt8KzMz2",
        "outputId": "168a9f2e-1e08-4ffb-cbdb-99d81acbb260"
      },
      "source": [
        "# c. Find 5 point summary of all remaining columns with numric attributes\n",
        "summary(data)"
      ],
      "execution_count": 9,
      "outputs": [
        {
          "output_type": "display_data",
          "data": {
            "text/plain": [
              "      age             sex               cp           trestbps    \n",
              " Min.   :29.00   Min.   :0.0000   Min.   :0.000   Min.   : 94.0  \n",
              " 1st Qu.:47.50   1st Qu.:0.0000   1st Qu.:0.000   1st Qu.:120.0  \n",
              " Median :55.00   Median :1.0000   Median :1.000   Median :130.0  \n",
              " Mean   :54.37   Mean   :0.6832   Mean   :0.967   Mean   :131.6  \n",
              " 3rd Qu.:61.00   3rd Qu.:1.0000   3rd Qu.:2.000   3rd Qu.:140.0  \n",
              " Max.   :77.00   Max.   :1.0000   Max.   :3.000   Max.   :200.0  \n",
              "      chol            fbs            restecg          thalach     \n",
              " Min.   :126.0   Min.   :0.0000   Min.   :0.0000   Min.   : 71.0  \n",
              " 1st Qu.:211.0   1st Qu.:0.0000   1st Qu.:0.0000   1st Qu.:133.5  \n",
              " Median :240.0   Median :0.0000   Median :1.0000   Median :153.0  \n",
              " Mean   :246.3   Mean   :0.1485   Mean   :0.5281   Mean   :149.6  \n",
              " 3rd Qu.:274.5   3rd Qu.:0.0000   3rd Qu.:1.0000   3rd Qu.:166.0  \n",
              " Max.   :564.0   Max.   :1.0000   Max.   :2.0000   Max.   :202.0  \n",
              "     exang           oldpeak         slope             ca        \n",
              " Min.   :0.0000   Min.   :0.00   Min.   :0.000   Min.   :0.0000  \n",
              " 1st Qu.:0.0000   1st Qu.:0.00   1st Qu.:1.000   1st Qu.:0.0000  \n",
              " Median :0.0000   Median :0.80   Median :1.000   Median :0.0000  \n",
              " Mean   :0.3267   Mean   :1.04   Mean   :1.399   Mean   :0.7294  \n",
              " 3rd Qu.:1.0000   3rd Qu.:1.60   3rd Qu.:2.000   3rd Qu.:1.0000  \n",
              " Max.   :1.0000   Max.   :6.20   Max.   :2.000   Max.   :4.0000  \n",
              "      thal           target      \n",
              " Min.   :0.000   Min.   :0.0000  \n",
              " 1st Qu.:2.000   1st Qu.:0.0000  \n",
              " Median :2.000   Median :1.0000  \n",
              " Mean   :2.314   Mean   :0.5446  \n",
              " 3rd Qu.:3.000   3rd Qu.:1.0000  \n",
              " Max.   :3.000   Max.   :1.0000  "
            ]
          },
          "metadata": {
            "tags": []
          }
        }
      ]
    },
    {
      "cell_type": "code",
      "metadata": {
        "colab": {
          "base_uri": "https://localhost:8080/",
          "height": 137
        },
        "id": "BtDO-zQBzMk2",
        "outputId": "f8d68087-2101-4abc-cd65-b203f85a3a46"
      },
      "source": [
        "# d. For attribute having maximum spread delete all tuples that have value less than the mean of the\n",
        "# attribute selected. Count the number of tuples reamining in the sampled dataset.\n",
        "\n",
        "m <- mean(data$trestbps, na.rm = FALSE)\n",
        "m\n",
        "\n",
        "df2 <- subset(data, data$trestbps< m)\n",
        "summary(df2$trestbps)\n",
        "print('Rows before row deletion: ')\n",
        "nrow(data)\n",
        "print('Rows before row deletion: ')\n",
        "nrow(df2)\n",
        "\n"
      ],
      "execution_count": 10,
      "outputs": [
        {
          "output_type": "display_data",
          "data": {
            "text/plain": [
              "[1] 131.6238"
            ],
            "text/latex": "131.623762376238",
            "text/markdown": "131.623762376238",
            "text/html": [
              "131.623762376238"
            ]
          },
          "metadata": {
            "tags": []
          }
        },
        {
          "output_type": "display_data",
          "data": {
            "text/plain": [
              "   Min. 1st Qu.  Median    Mean 3rd Qu.    Max. \n",
              "   94.0   112.0   120.0   119.6   128.0   130.0 "
            ]
          },
          "metadata": {
            "tags": []
          }
        },
        {
          "output_type": "stream",
          "text": [
            "[1] \"Rows before row deletion: \"\n"
          ],
          "name": "stdout"
        },
        {
          "output_type": "display_data",
          "data": {
            "text/plain": [
              "[1] 303"
            ],
            "text/latex": "303",
            "text/markdown": "303",
            "text/html": [
              "303"
            ]
          },
          "metadata": {
            "tags": []
          }
        },
        {
          "output_type": "stream",
          "text": [
            "[1] \"Rows before row deletion: \"\n"
          ],
          "name": "stdout"
        },
        {
          "output_type": "display_data",
          "data": {
            "text/plain": [
              "[1] 171"
            ],
            "text/latex": "171",
            "text/markdown": "171",
            "text/html": [
              "171"
            ]
          },
          "metadata": {
            "tags": []
          }
        }
      ]
    },
    {
      "cell_type": "markdown",
      "metadata": {
        "id": "0krXS8TU3QSx"
      },
      "source": [
        "Task Number 3:\n"
      ]
    },
    {
      "cell_type": "code",
      "metadata": {
        "colab": {
          "base_uri": "https://localhost:8080/",
          "height": 87
        },
        "id": "7J-pFh1j3VGD",
        "outputId": "4329d106-a3e5-4bc4-c1d5-e1d08f41fe7d"
      },
      "source": [
        "# a. print the 5 point statistical summary for any 2 numeric attributes from your data set\n",
        "summary(data$age) \n",
        "summary(data$chol)"
      ],
      "execution_count": 11,
      "outputs": [
        {
          "output_type": "display_data",
          "data": {
            "text/plain": [
              "   Min. 1st Qu.  Median    Mean 3rd Qu.    Max. \n",
              "  29.00   47.50   55.00   54.37   61.00   77.00 "
            ]
          },
          "metadata": {
            "tags": []
          }
        },
        {
          "output_type": "display_data",
          "data": {
            "text/plain": [
              "   Min. 1st Qu.  Median    Mean 3rd Qu.    Max. \n",
              "  126.0   211.0   240.0   246.3   274.5   564.0 "
            ]
          },
          "metadata": {
            "tags": []
          }
        }
      ]
    },
    {
      "cell_type": "code",
      "metadata": {
        "colab": {
          "base_uri": "https://localhost:8080/",
          "height": 486
        },
        "id": "N1iYxd4u4VRe",
        "outputId": "2b4b38b3-3262-40d1-b45c-8899356eafcb"
      },
      "source": [
        "# b. select 2 atributes have closest mean value and draw a scatter plot with proper x and labelsloi\n",
        "# ntt and title (for plotting you must use R library functions or gnuplot and not matplotlib )\n",
        "means<- colMeans(data[sapply(data, is.numeric)] )\n",
        "means\n",
        "\n",
        "library(ggplot2)\n",
        "\n",
        "oldpeak<-data$oldpeak\n",
        "slope<-data$slope\n",
        "plot(data$oldpeak , data$slope , main = \"Scatterplot\" , xlab = \"oldpeak\" , ylab = \"slope\" , las = 1 , xlim = c(0,2) , col = 2 )\n",
        "\n",
        "\n"
      ],
      "execution_count": 12,
      "outputs": [
        {
          "output_type": "display_data",
          "data": {
            "text/plain": [
              "        age         sex          cp    trestbps        chol         fbs \n",
              " 54.3663366   0.6831683   0.9669967 131.6237624 246.2640264   0.1485149 \n",
              "    restecg     thalach       exang     oldpeak       slope          ca \n",
              "  0.5280528 149.6468647   0.3267327   1.0396040   1.3993399   0.7293729 \n",
              "       thal      target \n",
              "  2.3135314   0.5445545 "
            ],
            "text/latex": "\\begin{description*}\n\\item[age] 54.3663366336634\n\\item[sex] 0.683168316831683\n\\item[cp] 0.966996699669967\n\\item[trestbps] 131.623762376238\n\\item[chol] 246.26402640264\n\\item[fbs] 0.148514851485149\n\\item[restecg] 0.528052805280528\n\\item[thalach] 149.646864686469\n\\item[exang] 0.326732673267327\n\\item[oldpeak] 1.03960396039604\n\\item[slope] 1.3993399339934\n\\item[ca] 0.729372937293729\n\\item[thal] 2.31353135313531\n\\item[target] 0.544554455445545\n\\end{description*}\n",
            "text/markdown": "age\n:   54.3663366336634sex\n:   0.683168316831683cp\n:   0.966996699669967trestbps\n:   131.623762376238chol\n:   246.26402640264fbs\n:   0.148514851485149restecg\n:   0.528052805280528thalach\n:   149.646864686469exang\n:   0.326732673267327oldpeak\n:   1.03960396039604slope\n:   1.3993399339934ca\n:   0.729372937293729thal\n:   2.31353135313531target\n:   0.544554455445545\n\n",
            "text/html": [
              "<style>\n",
              ".dl-inline {width: auto; margin:0; padding: 0}\n",
              ".dl-inline>dt, .dl-inline>dd {float: none; width: auto; display: inline-block}\n",
              ".dl-inline>dt::after {content: \":\\0020\"; padding-right: .5ex}\n",
              ".dl-inline>dt:not(:first-of-type) {padding-left: .5ex}\n",
              "</style><dl class=dl-inline><dt>age</dt><dd>54.3663366336634</dd><dt>sex</dt><dd>0.683168316831683</dd><dt>cp</dt><dd>0.966996699669967</dd><dt>trestbps</dt><dd>131.623762376238</dd><dt>chol</dt><dd>246.26402640264</dd><dt>fbs</dt><dd>0.148514851485149</dd><dt>restecg</dt><dd>0.528052805280528</dd><dt>thalach</dt><dd>149.646864686469</dd><dt>exang</dt><dd>0.326732673267327</dd><dt>oldpeak</dt><dd>1.03960396039604</dd><dt>slope</dt><dd>1.3993399339934</dd><dt>ca</dt><dd>0.729372937293729</dd><dt>thal</dt><dd>2.31353135313531</dd><dt>target</dt><dd>0.544554455445545</dd></dl>\n"
            ]
          },
          "metadata": {
            "tags": []
          }
        },
        {
          "output_type": "display_data",
          "data": {
            "image/png": "[encoded data removed]",
            "text/plain": [
              "Plot with title “Scatterplot”"
            ]
          },
          "metadata": {
            "tags": [],
            "image/png": {
              "width": 420,
              "height": 420
            }
          }
        }
      ]
    },
    {
      "cell_type": "code",
      "metadata": {
        "colab": {
          "base_uri": "https://localhost:8080/",
          "height": 1000
        },
        "id": "oezYxq4c_sDz",
        "outputId": "a8f99def-f0cc-42df-f540-872f980cafc7"
      },
      "source": [
        ""
      ],
      "execution_count": 13,
      "outputs": [
        {
          "output_type": "stream",
          "text": [
            "Installing package into ‘/usr/local/lib/R/site-library’\n",
            "(as ‘lib’ is unspecified)\n",
            "\n",
            "also installing the dependencies ‘matrixStats’, ‘RcppArmadillo’, ‘numDeriv’, ‘SparseM’, ‘MatrixModels’, ‘conquer’, ‘sp’, ‘openxlsx’, ‘minqa’, ‘nloptr’, ‘RcppEigen’, ‘carData’, ‘abind’, ‘pbkrtest’, ‘quantreg’, ‘maptools’, ‘rio’, ‘lme4’, ‘corrplot’, ‘car’, ‘ggrepel’, ‘ggsci’, ‘cowplot’, ‘ggsignif’, ‘gridExtra’, ‘polynom’, ‘rstatix’\n",
            "\n",
            "\n"
          ],
          "name": "stderr"
        },
        {
          "output_type": "error",
          "ename": "ERROR",
          "evalue": "ignored",
          "traceback": [
            "Error in `[.data.frame`(data, , x): undefined columns selected\nTraceback:\n",
            "1. ggscatter(data, x = \"oldeak\", y = \"slope\", add = \"reg.line\", \n .     conf.int = TRUE, cor.coef = TRUE, cor.method = \"pearson\", \n .     xlab = \"Miles/(US) gallon\", ylab = \"Weight (1000 lbs)\")",
            "2. do.call(.plotter, .opts)",
            "3. (function (fun, data, x, y, combine = FALSE, merge = FALSE, color = \"black\", \n .     fill = \"white\", title = NULL, xlab = NULL, ylab = NULL, legend = NULL, \n .     legend.title = NULL, facet.by = NULL, select = NULL, remove = NULL, \n .     order = NULL, add = \"none\", add.params = list(), label = NULL, \n .     font.label = list(size = 11, color = \"black\"), label.select = NULL, \n .     repel = FALSE, label.rectangle = FALSE, font.family = \"\", \n .     parse = FALSE, ggtheme = theme_pubr(), fun_name = \"\", group = 1, \n .     show.legend.text = NA, ...) \n . {\n .     if (is.logical(merge)) {\n .         if (merge) \n .             merge = \"asis\"\n .         else merge = \"none\"\n .     }\n .     if (combine & merge != \"none\") \n .         stop(\"You should use either combine = TRUE or merge = TRUE, but not both together.\")\n .     font.label <- .parse_font(font.label)\n .     if (is.null(label) & fun_name == \"barplot\") \n .         label <- FALSE\n .     .lab <- label\n .     if (fun_name != \"barplot\") \n .         .lab <- NULL\n .     if (!missing(x) & !missing(y)) {\n .         if (length(y) == 1 & length(x) == 1) {\n .             combine <- FALSE\n .             merge <- \"none\"\n .         }\n .     }\n .     opts <- .check_data(data, x, y, combine = combine | merge != \n .         \"none\")\n .     data <- opts$data\n .     x <- opts$x\n .     y <- opts$y\n .     is_density_plot <- y[1] %in% c(\"..count..\", \"..density..\", \n .         \"..ecdf..\", \"..qq..\")\n .     if (combine) \n .         facet.by <- \".y.\"\n .     if (merge != \"none\") {\n .         if (!is_density_plot) \n .             facet.by <- NULL\n .         if (is.null(legend.title)) \n .             legend.title <- \"\"\n .     }\n .     user.add.color <- add.params$color\n .     geom.text.position <- \"identity\"\n .     if (merge == \"asis\") {\n .         .grouping.var <- \".y.\"\n .     }\n .     else if (merge == \"flip\") {\n .         .grouping.var <- opts$x\n .         opts$x <- \".y.\"\n .         if (is.null(xlab)) \n .             xlab <- FALSE\n .     }\n .     if (merge == \"asis\" | merge == \"flip\") {\n .         if (is_density_plot) {\n .             color <- ifelse(color == \".x.\", \".y.\", color)\n .             fill <- ifelse(fill == \".x.\", \".y.\", fill)\n .         }\n .         if (any(c(color, fill) %in% names(data))) {\n .             add.params$color <- font.label$color <- ifelse(color %in% \n .                 names(data), color, fill)\n .         }\n .         else if (!all(c(color, fill) %in% names(data))) {\n .             color <- add.params$color <- font.label$color <- .grouping.var\n .         }\n .         group <- .grouping.var\n .         geom.text.position <- position_dodge(0.8)\n .     }\n .     if (!combine & merge == \"none\" & length(opts$y) > 1 & is.null(title)) \n .         title <- opts$y\n .     if (!combine & merge == \"none\" & is.null(title)) {\n .         if (length(opts$y) > 1) \n .             title <- opts$y\n .         else if (length(opts$x) > 1 & is_density_plot) \n .             title <- opts$x\n .     }\n .     x <- opts$data[, opts$x] %>% as.vector()\n .     if (!is.null(select)) \n .         opts$data <- subset(opts$data, x %in% select)\n .     if (!is.null(remove)) \n .         opts$data <- subset(opts$data, !(x %in% remove))\n .     if (!is.null(order)) \n .         opts$data[, opts$x] <- factor(opts$data[, opts$x], levels = order)\n .     opts <- opts %>% c(list(title = title, xlab = xlab, ylab = ylab)) %>% \n .         .compact()\n .     data <- opts$data\n .     opts$data <- list(opts$data)\n .     if (fun_name %in% c(\"ggline\", \"ggdotchart\")) \n .         opts$group <- group\n .     p <- purrr::pmap(opts, fun, color = color, fill = fill, legend = legend, \n .         legend.title = legend.title, ggtheme = ggtheme, facet.by = facet.by, \n .         add = add, add.params = add.params, user.add.color = user.add.color, \n .         label = .lab, font.label = font.label, repel = repel, \n .         label.rectangle = label.rectangle, ...)\n .     if (!is.null(facet.by)) \n .         p <- purrr::map(p, facet, facet.by = facet.by, ...)\n .     if (!is.null(label) & fun_name != \"barplot\") {\n .         if (is.logical(label)) {\n .             if (label) \n .                 label <- opts$y\n .         }\n .         grouping.vars <- intersect(c(facet.by, color, fill), \n .             colnames(data))\n .         label.opts <- font.label %>% .add_item(data = data, x = opts$x, \n .             y = opts$y, label = label, label.select = label.select, \n .             repel = repel, label.rectangle = label.rectangle, \n .             family = font.family, parse = parse, ggtheme = NULL, \n .             grouping.vars = grouping.vars, facet.by = facet.by, \n .             position = geom.text.position, show.legend = show.legend.text)\n .         p <- purrr::map(p, function(p, label.opts) {\n .             . <- NULL\n .             label.opts %>% .add_item(ggp = p) %>% do.call(ggtext, \n .                 .)\n .         }, label.opts)\n .     }\n .     p <- purrr::map(p, ggpar, legend = legend, legend.title = legend.title)\n .     if (.is_list(p) & length(p) == 1) \n .         p <- p[[1]]\n .     p\n . })(xlab = \"Miles/(US) gallon\", ylab = \"Weight (1000 lbs)\", add = \"reg.line\", \n .     conf.int = TRUE, cor.coef = TRUE, cor.method = \"pearson\", \n .     data = structure(list(age = c(63L, 37L, 41L, 56L, 57L, 57L, \n .     56L, 44L, 52L, 57L, 54L, 48L, 49L, 64L, 58L, 50L, 58L, 66L, \n .     43L, 69L, 59L, 44L, 42L, 61L, 40L, 71L, 59L, 51L, 65L, 53L, \n .     41L, 65L, 44L, 54L, 51L, 46L, 54L, 54L, 65L, 65L, 51L, 48L, \n .     45L, 53L, 39L, 52L, 44L, 47L, 53L, 53L, 51L, 66L, 62L, 44L, \n .     63L, 52L, 48L, 45L, 34L, 57L, 71L, 54L, 52L, 41L, 58L, 35L, \n .     51L, 45L, 44L, 62L, 54L, 51L, 29L, 51L, 43L, 55L, 51L, 59L, \n .     52L, 58L, 41L, 45L, 60L, 52L, 42L, 67L, 68L, 46L, 54L, 58L, \n .     48L, 57L, 52L, 54L, 45L, 53L, 62L, 52L, 43L, 53L, 42L, 59L, \n .     63L, 42L, 50L, 68L, 69L, 45L, 50L, 50L, 64L, 57L, 64L, 43L, \n .     55L, 37L, 41L, 56L, 46L, 46L, 64L, 59L, 41L, 54L, 39L, 34L, \n .     47L, 67L, 52L, 74L, 54L, 49L, 42L, 41L, 41L, 49L, 60L, 62L, \n .     57L, 64L, 51L, 43L, 42L, 67L, 76L, 70L, 44L, 60L, 44L, 42L, \n .     66L, 71L, 64L, 66L, 39L, 58L, 47L, 35L, 58L, 56L, 56L, 55L, \n .     41L, 38L, 38L, 67L, 67L, 62L, 63L, 53L, 56L, 48L, 58L, 58L, \n .     60L, 40L, 60L, 64L, 43L, 57L, 55L, 65L, 61L, 58L, 50L, 44L, \n .     60L, 54L, 50L, 41L, 51L, 58L, 54L, 60L, 60L, 59L, 46L, 67L, \n .     62L, 65L, 44L, 60L, 58L, 68L, 62L, 52L, 59L, 60L, 49L, 59L, \n .     57L, 61L, 39L, 61L, 56L, 43L, 62L, 63L, 65L, 48L, 63L, 55L, \n .     65L, 56L, 54L, 70L, 62L, 35L, 59L, 64L, 47L, 57L, 55L, 64L, \n .     70L, 51L, 58L, 60L, 77L, 35L, 70L, 59L, 64L, 57L, 56L, 48L, \n .     56L, 66L, 54L, 69L, 51L, 43L, 62L, 67L, 59L, 45L, 58L, 50L, \n .     62L, 38L, 66L, 52L, 53L, 63L, 54L, 66L, 55L, 49L, 54L, 56L, \n .     46L, 61L, 67L, 58L, 47L, 52L, 58L, 57L, 58L, 61L, 42L, 52L, \n .     59L, 40L, 61L, 46L, 59L, 57L, 57L, 55L, 61L, 58L, 58L, 67L, \n .     44L, 63L, 63L, 59L, 57L, 45L, 68L, 57L, 57L), sex = c(1L, \n .     1L, 0L, 1L, 0L, 1L, 0L, 1L, 1L, 1L, 1L, 0L, 1L, 1L, 0L, 0L, \n .     0L, 0L, 1L, 0L, 1L, 1L, 1L, 1L, 1L, 0L, 1L, 1L, 0L, 1L, 0L, \n .     1L, 1L, 1L, 1L, 0L, 0L, 1L, 0L, 0L, 0L, 1L, 1L, 0L, 1L, 1L, \n .     1L, 1L, 0L, 0L, 0L, 1L, 1L, 0L, 0L, 1L, 1L, 1L, 1L, 0L, 0L, \n .     1L, 1L, 1L, 1L, 0L, 1L, 0L, 1L, 0L, 1L, 1L, 1L, 1L, 0L, 0L, \n .     1L, 1L, 1L, 1L, 1L, 1L, 0L, 1L, 0L, 0L, 1L, 1L, 0L, 0L, 1L, \n .     1L, 1L, 0L, 0L, 1L, 0L, 1L, 1L, 1L, 1L, 1L, 0L, 1L, 1L, 0L, \n .     1L, 0L, 0L, 0L, 0L, 1L, 0L, 1L, 1L, 0L, 1L, 1L, 0L, 0L, 0L, \n .     1L, 0L, 0L, 0L, 0L, 1L, 0L, 0L, 0L, 0L, 0L, 1L, 1L, 0L, 0L, \n .     0L, 1L, 1L, 1L, 0L, 1L, 0L, 0L, 0L, 1L, 0L, 0L, 1L, 1L, 1L, \n .     0L, 1L, 0L, 0L, 0L, 1L, 1L, 1L, 1L, 1L, 0L, 1L, 1L, 1L, 1L, \n .     1L, 0L, 1L, 1L, 1L, 1L, 1L, 1L, 1L, 1L, 1L, 1L, 1L, 1L, 1L, \n .     0L, 0L, 1L, 1L, 1L, 1L, 1L, 1L, 1L, 0L, 1L, 1L, 1L, 1L, 1L, \n .     1L, 1L, 1L, 1L, 1L, 1L, 1L, 1L, 0L, 1L, 1L, 0L, 1L, 1L, 1L, \n .     1L, 1L, 0L, 1L, 0L, 0L, 1L, 1L, 1L, 0L, 1L, 1L, 0L, 1L, 1L, \n .     1L, 1L, 1L, 1L, 1L, 1L, 1L, 1L, 1L, 1L, 1L, 1L, 1L, 1L, 1L, \n .     0L, 1L, 1L, 1L, 1L, 0L, 1L, 1L, 1L, 1L, 1L, 0L, 1L, 1L, 1L, \n .     1L, 1L, 0L, 1L, 0L, 1L, 1L, 0L, 1L, 1L, 0L, 1L, 1L, 1L, 1L, \n .     1L, 1L, 1L, 1L, 1L, 1L, 1L, 0L, 1L, 1L, 1L, 1L, 1L, 1L, 1L, \n .     1L, 1L, 1L, 0L, 1L, 1L, 0L, 1L, 1L, 1L, 0L, 1L, 0L, 1L, 1L, \n .     1L, 0L), cp = c(3L, 2L, 1L, 1L, 0L, 0L, 1L, 1L, 2L, 2L, 0L, \n .     2L, 1L, 3L, 3L, 2L, 2L, 3L, 0L, 3L, 0L, 2L, 0L, 2L, 3L, 1L, \n .     2L, 2L, 2L, 2L, 1L, 0L, 1L, 2L, 3L, 2L, 2L, 2L, 2L, 2L, 2L, \n .     1L, 0L, 0L, 2L, 1L, 2L, 2L, 2L, 0L, 2L, 0L, 2L, 2L, 2L, 1L, \n .     0L, 0L, 3L, 0L, 2L, 1L, 3L, 1L, 2L, 0L, 2L, 1L, 1L, 0L, 2L, \n .     2L, 1L, 0L, 2L, 1L, 2L, 1L, 1L, 2L, 2L, 1L, 2L, 3L, 0L, 2L, \n .     2L, 1L, 2L, 0L, 2L, 0L, 2L, 1L, 1L, 0L, 0L, 0L, 2L, 2L, 3L, \n .     3L, 1L, 2L, 2L, 2L, 3L, 0L, 1L, 0L, 0L, 2L, 2L, 0L, 1L, 2L, \n .     2L, 3L, 1L, 0L, 0L, 0L, 2L, 2L, 2L, 1L, 0L, 2L, 2L, 1L, 2L, \n .     1L, 1L, 1L, 1L, 0L, 2L, 1L, 0L, 0L, 2L, 0L, 2L, 0L, 2L, 1L, \n .     2L, 3L, 2L, 2L, 0L, 0L, 3L, 2L, 2L, 0L, 2L, 1L, 1L, 1L, 1L, \n .     1L, 1L, 2L, 2L, 0L, 0L, 0L, 0L, 0L, 2L, 1L, 1L, 2L, 0L, 0L, \n .     0L, 2L, 0L, 0L, 0L, 0L, 0L, 2L, 0L, 0L, 0L, 0L, 2L, 0L, 0L, \n .     0L, 0L, 0L, 2L, 0L, 2L, 0L, 0L, 0L, 0L, 0L, 0L, 2L, 0L, 0L, \n .     0L, 0L, 2L, 0L, 2L, 0L, 0L, 0L, 0L, 0L, 2L, 0L, 0L, 0L, 0L, \n .     0L, 3L, 0L, 0L, 0L, 1L, 0L, 3L, 2L, 2L, 0L, 0L, 0L, 0L, 0L, \n .     0L, 0L, 0L, 0L, 2L, 0L, 0L, 0L, 0L, 0L, 0L, 1L, 1L, 2L, 0L, \n .     0L, 0L, 0L, 3L, 0L, 0L, 0L, 0L, 3L, 0L, 0L, 0L, 0L, 0L, 0L, \n .     0L, 2L, 0L, 0L, 0L, 3L, 0L, 0L, 0L, 0L, 0L, 1L, 1L, 0L, 0L, \n .     0L, 2L, 0L, 0L, 0L, 3L, 1L, 0L, 0L, 0L, 0L, 0L, 2L, 0L, 0L, \n .     0L, 0L, 0L, 3L, 0L, 0L, 1L), trestbps = c(145L, 130L, 130L, \n .     120L, 120L, 140L, 140L, 120L, 172L, 150L, 140L, 130L, 130L, \n .     110L, 150L, 120L, 120L, 150L, 150L, 140L, 135L, 130L, 140L, \n .     150L, 140L, 160L, 150L, 110L, 140L, 130L, 105L, 120L, 130L, \n .     125L, 125L, 142L, 135L, 150L, 155L, 160L, 140L, 130L, 104L, \n .     130L, 140L, 120L, 140L, 138L, 128L, 138L, 130L, 120L, 130L, \n .     108L, 135L, 134L, 122L, 115L, 118L, 128L, 110L, 108L, 118L, \n .     135L, 140L, 138L, 100L, 130L, 120L, 124L, 120L, 94L, 130L, \n .     140L, 122L, 135L, 125L, 140L, 128L, 105L, 112L, 128L, 102L, \n .     152L, 102L, 115L, 118L, 101L, 110L, 100L, 124L, 132L, 138L, \n .     132L, 112L, 142L, 140L, 108L, 130L, 130L, 148L, 178L, 140L, \n .     120L, 129L, 120L, 160L, 138L, 120L, 110L, 180L, 150L, 140L, \n .     110L, 130L, 120L, 130L, 120L, 105L, 138L, 130L, 138L, 112L, \n .     108L, 94L, 118L, 112L, 152L, 136L, 120L, 160L, 134L, 120L, \n .     110L, 126L, 130L, 120L, 128L, 110L, 128L, 120L, 115L, 120L, \n .     106L, 140L, 156L, 118L, 150L, 120L, 130L, 160L, 112L, 170L, \n .     146L, 138L, 130L, 130L, 122L, 125L, 130L, 120L, 132L, 120L, \n .     138L, 138L, 160L, 120L, 140L, 130L, 140L, 130L, 110L, 120L, \n .     132L, 130L, 110L, 117L, 140L, 120L, 150L, 132L, 150L, 130L, \n .     112L, 150L, 112L, 130L, 124L, 140L, 110L, 130L, 128L, 120L, \n .     145L, 140L, 170L, 150L, 125L, 120L, 110L, 110L, 125L, 150L, \n .     180L, 160L, 128L, 110L, 150L, 120L, 140L, 128L, 120L, 118L, \n .     145L, 125L, 132L, 130L, 130L, 135L, 130L, 150L, 140L, 138L, \n .     200L, 110L, 145L, 120L, 120L, 170L, 125L, 108L, 165L, 160L, \n .     120L, 130L, 140L, 125L, 140L, 125L, 126L, 160L, 174L, 145L, \n .     152L, 132L, 124L, 134L, 160L, 192L, 140L, 140L, 132L, 138L, \n .     100L, 160L, 142L, 128L, 144L, 150L, 120L, 178L, 112L, 123L, \n .     108L, 110L, 112L, 180L, 118L, 122L, 130L, 120L, 134L, 120L, \n .     100L, 110L, 125L, 146L, 124L, 136L, 138L, 136L, 128L, 126L, \n .     152L, 140L, 140L, 134L, 154L, 110L, 128L, 148L, 114L, 170L, \n .     152L, 120L, 140L, 124L, 164L, 140L, 110L, 144L, 130L, 130L\n .     ), chol = c(233L, 250L, 204L, 236L, 354L, 192L, 294L, 263L, \n .     199L, 168L, 239L, 275L, 266L, 211L, 283L, 219L, 340L, 226L, \n .     247L, 239L, 234L, 233L, 226L, 243L, 199L, 302L, 212L, 175L, \n .     417L, 197L, 198L, 177L, 219L, 273L, 213L, 177L, 304L, 232L, \n .     269L, 360L, 308L, 245L, 208L, 264L, 321L, 325L, 235L, 257L, \n .     216L, 234L, 256L, 302L, 231L, 141L, 252L, 201L, 222L, 260L, \n .     182L, 303L, 265L, 309L, 186L, 203L, 211L, 183L, 222L, 234L, \n .     220L, 209L, 258L, 227L, 204L, 261L, 213L, 250L, 245L, 221L, \n .     205L, 240L, 250L, 308L, 318L, 298L, 265L, 564L, 277L, 197L, \n .     214L, 248L, 255L, 207L, 223L, 288L, 160L, 226L, 394L, 233L, \n .     315L, 246L, 244L, 270L, 195L, 240L, 196L, 211L, 234L, 236L, \n .     244L, 254L, 325L, 126L, 313L, 211L, 262L, 215L, 214L, 193L, \n .     204L, 243L, 303L, 271L, 268L, 267L, 199L, 210L, 204L, 277L, \n .     196L, 269L, 201L, 271L, 295L, 235L, 306L, 269L, 178L, 208L, \n .     201L, 263L, 295L, 303L, 209L, 223L, 197L, 245L, 242L, 240L, \n .     226L, 180L, 228L, 149L, 227L, 278L, 220L, 197L, 253L, 192L, \n .     220L, 221L, 240L, 342L, 157L, 175L, 175L, 286L, 229L, 268L, \n .     254L, 203L, 256L, 229L, 284L, 224L, 206L, 167L, 230L, 335L, \n .     177L, 276L, 353L, 225L, 330L, 230L, 243L, 290L, 253L, 266L, \n .     233L, 172L, 305L, 216L, 188L, 282L, 185L, 326L, 231L, 254L, \n .     267L, 248L, 197L, 258L, 270L, 274L, 164L, 255L, 239L, 258L, \n .     188L, 177L, 229L, 260L, 219L, 307L, 249L, 341L, 263L, 330L, \n .     254L, 256L, 407L, 217L, 282L, 288L, 239L, 174L, 281L, 198L, \n .     288L, 309L, 243L, 289L, 289L, 246L, 322L, 299L, 300L, 293L, \n .     304L, 282L, 269L, 249L, 212L, 274L, 184L, 274L, 409L, 246L, \n .     283L, 254L, 298L, 247L, 294L, 299L, 273L, 309L, 259L, 200L, \n .     244L, 231L, 228L, 230L, 282L, 269L, 206L, 212L, 327L, 149L, \n .     286L, 283L, 249L, 234L, 237L, 234L, 275L, 212L, 218L, 261L, \n .     319L, 166L, 315L, 204L, 218L, 223L, 207L, 311L, 204L, 232L, \n .     335L, 205L, 203L, 318L, 225L, 212L, 169L, 187L, 197L, 176L, \n .     241L, 264L, 193L, 131L, 236L), fbs = c(1L, 0L, 0L, 0L, 0L, \n .     0L, 0L, 0L, 1L, 0L, 0L, 0L, 0L, 0L, 1L, 0L, 0L, 0L, 0L, 0L, \n .     0L, 0L, 0L, 1L, 0L, 0L, 1L, 0L, 1L, 1L, 0L, 0L, 0L, 0L, 0L, \n .     0L, 1L, 0L, 0L, 0L, 0L, 0L, 0L, 0L, 0L, 0L, 0L, 0L, 0L, 0L, \n .     0L, 0L, 0L, 0L, 0L, 0L, 0L, 0L, 0L, 0L, 1L, 0L, 0L, 0L, 1L, \n .     0L, 0L, 0L, 0L, 0L, 0L, 0L, 0L, 0L, 0L, 0L, 1L, 0L, 1L, 0L, \n .     0L, 0L, 0L, 1L, 0L, 0L, 0L, 1L, 0L, 0L, 1L, 0L, 0L, 1L, 0L, \n .     0L, 0L, 1L, 0L, 1L, 0L, 0L, 0L, 1L, 0L, 0L, 1L, 0L, 0L, 0L, \n .     0L, 1L, 0L, 0L, 0L, 0L, 0L, 0L, 0L, 0L, 0L, 0L, 0L, 0L, 0L, \n .     0L, 0L, 0L, 0L, 0L, 0L, 0L, 0L, 0L, 0L, 0L, 1L, 1L, 0L, 0L, \n .     0L, 0L, 0L, 0L, 0L, 0L, 0L, 0L, 0L, 0L, 0L, 0L, 0L, 0L, 0L, \n .     0L, 0L, 0L, 0L, 0L, 0L, 0L, 0L, 0L, 0L, 0L, 0L, 0L, 0L, 1L, \n .     1L, 0L, 0L, 0L, 0L, 0L, 1L, 0L, 0L, 0L, 0L, 0L, 0L, 0L, 0L, \n .     0L, 0L, 0L, 0L, 0L, 0L, 0L, 0L, 0L, 0L, 0L, 0L, 1L, 0L, 0L, \n .     0L, 0L, 0L, 1L, 0L, 0L, 0L, 0L, 0L, 0L, 0L, 0L, 0L, 0L, 1L, \n .     1L, 0L, 1L, 0L, 1L, 0L, 0L, 1L, 1L, 0L, 0L, 0L, 0L, 0L, 0L, \n .     0L, 1L, 0L, 0L, 0L, 0L, 0L, 0L, 0L, 0L, 0L, 0L, 0L, 0L, 0L, \n .     0L, 0L, 0L, 0L, 0L, 0L, 1L, 1L, 0L, 0L, 0L, 0L, 0L, 0L, 0L, \n .     1L, 0L, 0L, 0L, 0L, 0L, 0L, 0L, 0L, 1L, 0L, 0L, 0L, 0L, 0L, \n .     0L, 0L, 0L, 1L, 0L, 0L, 1L, 1L, 0L, 0L, 0L, 0L, 0L, 0L, 0L, \n .     0L, 0L, 1L, 0L, 0L, 0L, 0L, 1L, 0L, 0L, 1L, 0L, 0L), restecg = c(0L, \n .     1L, 0L, 1L, 1L, 1L, 0L, 1L, 1L, 1L, 1L, 1L, 1L, 0L, 0L, 1L, \n .     1L, 1L, 1L, 1L, 1L, 1L, 1L, 1L, 1L, 1L, 1L, 1L, 0L, 0L, 1L, \n .     1L, 0L, 0L, 0L, 0L, 1L, 0L, 1L, 0L, 0L, 0L, 0L, 0L, 0L, 1L, \n .     0L, 0L, 0L, 0L, 0L, 0L, 1L, 1L, 0L, 1L, 0L, 0L, 0L, 0L, 0L, \n .     1L, 0L, 1L, 0L, 1L, 1L, 0L, 1L, 1L, 0L, 1L, 0L, 0L, 1L, 0L, \n .     0L, 1L, 1L, 0L, 1L, 0L, 1L, 1L, 0L, 0L, 1L, 1L, 1L, 0L, 1L, \n .     1L, 1L, 0L, 1L, 0L, 0L, 1L, 1L, 0L, 0L, 0L, 1L, 1L, 1L, 0L, \n .     0L, 0L, 1L, 0L, 1L, 1L, 1L, 1L, 1L, 1L, 0L, 0L, 1L, 0L, 1L, \n .     0L, 0L, 0L, 1L, 1L, 1L, 1L, 0L, 0L, 1L, 1L, 1L, 1L, 1L, 1L, \n .     1L, 0L, 1L, 1L, 0L, 1L, 1L, 1L, 2L, 0L, 1L, 1L, 1L, 1L, 0L, \n .     1L, 0L, 0L, 1L, 1L, 1L, 1L, 1L, 0L, 1L, 1L, 1L, 1L, 1L, 0L, \n .     0L, 0L, 0L, 0L, 0L, 1L, 0L, 0L, 0L, 0L, 1L, 1L, 0L, 0L, 1L, \n .     0L, 0L, 0L, 0L, 0L, 1L, 0L, 1L, 0L, 1L, 0L, 1L, 0L, 0L, 0L, \n .     1L, 1L, 1L, 0L, 0L, 0L, 0L, 0L, 0L, 1L, 0L, 0L, 1L, 1L, 0L, \n .     1L, 1L, 0L, 0L, 0L, 1L, 0L, 0L, 0L, 0L, 1L, 0L, 0L, 1L, 1L, \n .     0L, 1L, 0L, 1L, 1L, 0L, 0L, 0L, 0L, 1L, 0L, 0L, 0L, 0L, 1L, \n .     1L, 0L, 1L, 0L, 0L, 0L, 1L, 0L, 0L, 1L, 0L, 1L, 0L, 0L, 0L, \n .     0L, 0L, 1L, 1L, 1L, 1L, 1L, 1L, 0L, 0L, 2L, 0L, 0L, 0L, 0L, \n .     1L, 1L, 1L, 0L, 1L, 1L, 1L, 0L, 0L, 1L, 1L, 1L, 1L, 0L, 1L, \n .     1L, 0L, 1L, 2L, 1L, 2L, 0L, 0L, 1L, 0L, 1L, 0L, 1L, 1L, 1L, \n .     1L, 0L), thalach = c(150L, 187L, 172L, 178L, 163L, 148L, \n .     153L, 173L, 162L, 174L, 160L, 139L, 171L, 144L, 162L, 158L, \n .     172L, 114L, 171L, 151L, 161L, 179L, 178L, 137L, 178L, 162L, \n .     157L, 123L, 157L, 152L, 168L, 140L, 188L, 152L, 125L, 160L, \n .     170L, 165L, 148L, 151L, 142L, 180L, 148L, 143L, 182L, 172L, \n .     180L, 156L, 115L, 160L, 149L, 151L, 146L, 175L, 172L, 158L, \n .     186L, 185L, 174L, 159L, 130L, 156L, 190L, 132L, 165L, 182L, \n .     143L, 175L, 170L, 163L, 147L, 154L, 202L, 186L, 165L, 161L, \n .     166L, 164L, 184L, 154L, 179L, 170L, 160L, 178L, 122L, 160L, \n .     151L, 156L, 158L, 122L, 175L, 168L, 169L, 159L, 138L, 111L, \n .     157L, 147L, 162L, 173L, 178L, 145L, 179L, 194L, 163L, 115L, \n .     131L, 152L, 162L, 159L, 154L, 173L, 133L, 161L, 155L, 170L, \n .     168L, 162L, 172L, 152L, 122L, 182L, 172L, 167L, 179L, 192L, \n .     143L, 172L, 169L, 121L, 163L, 162L, 162L, 153L, 163L, 163L, \n .     96L, 140L, 126L, 105L, 157L, 181L, 173L, 142L, 116L, 143L, \n .     149L, 171L, 169L, 150L, 138L, 125L, 155L, 152L, 152L, 131L, \n .     179L, 174L, 144L, 163L, 169L, 166L, 182L, 173L, 173L, 108L, \n .     129L, 160L, 147L, 155L, 142L, 168L, 160L, 173L, 132L, 114L, \n .     160L, 158L, 120L, 112L, 132L, 114L, 169L, 165L, 128L, 153L, \n .     144L, 109L, 163L, 158L, 142L, 131L, 113L, 142L, 155L, 140L, \n .     147L, 163L, 99L, 158L, 177L, 141L, 111L, 150L, 145L, 161L, \n .     142L, 157L, 139L, 162L, 150L, 140L, 140L, 146L, 144L, 136L, \n .     97L, 132L, 127L, 150L, 154L, 111L, 174L, 133L, 126L, 125L, \n .     103L, 130L, 159L, 131L, 152L, 124L, 145L, 96L, 109L, 173L, \n .     171L, 170L, 162L, 156L, 112L, 143L, 132L, 88L, 105L, 166L, \n .     150L, 120L, 195L, 146L, 122L, 143L, 106L, 125L, 125L, 147L, \n .     130L, 126L, 154L, 182L, 165L, 160L, 95L, 169L, 108L, 132L, \n .     117L, 126L, 116L, 103L, 144L, 145L, 71L, 156L, 118L, 168L, \n .     105L, 141L, 152L, 125L, 125L, 156L, 134L, 181L, 138L, 120L, \n .     162L, 164L, 143L, 130L, 161L, 140L, 146L, 150L, 144L, 144L, \n .     136L, 90L, 123L, 132L, 141L, 115L, 174L), exang = c(0L, 0L, \n .     0L, 0L, 1L, 0L, 0L, 0L, 0L, 0L, 0L, 0L, 0L, 1L, 0L, 0L, 0L, \n .     0L, 0L, 0L, 0L, 1L, 0L, 1L, 1L, 0L, 0L, 0L, 0L, 0L, 0L, 0L, \n .     0L, 0L, 1L, 1L, 0L, 0L, 0L, 0L, 0L, 0L, 1L, 0L, 0L, 0L, 0L, \n .     0L, 0L, 0L, 0L, 0L, 0L, 0L, 0L, 0L, 0L, 0L, 0L, 0L, 0L, 0L, \n .     0L, 0L, 0L, 0L, 1L, 0L, 0L, 0L, 0L, 1L, 0L, 1L, 0L, 0L, 0L, \n .     1L, 0L, 1L, 0L, 0L, 0L, 0L, 0L, 0L, 0L, 0L, 0L, 0L, 0L, 1L, \n .     0L, 1L, 0L, 1L, 0L, 0L, 0L, 0L, 0L, 0L, 0L, 0L, 0L, 0L, 0L, \n .     1L, 0L, 0L, 1L, 0L, 0L, 0L, 0L, 0L, 0L, 0L, 0L, 1L, 0L, 0L, \n .     1L, 0L, 0L, 0L, 0L, 0L, 0L, 1L, 0L, 0L, 0L, 0L, 0L, 0L, 0L, \n .     0L, 1L, 1L, 0L, 0L, 0L, 0L, 0L, 0L, 0L, 0L, 0L, 0L, 0L, 0L, \n .     0L, 0L, 0L, 0L, 0L, 0L, 0L, 0L, 0L, 0L, 0L, 0L, 0L, 1L, 1L, \n .     0L, 0L, 1L, 1L, 0L, 0L, 0L, 1L, 1L, 1L, 0L, 1L, 1L, 1L, 0L, \n .     0L, 0L, 0L, 0L, 1L, 1L, 0L, 0L, 1L, 1L, 0L, 1L, 0L, 1L, 0L, \n .     0L, 1L, 0L, 0L, 1L, 1L, 1L, 0L, 1L, 1L, 0L, 0L, 1L, 0L, 1L, \n .     0L, 1L, 1L, 1L, 0L, 1L, 0L, 1L, 0L, 1L, 0L, 1L, 1L, 1L, 0L, \n .     1L, 0L, 1L, 0L, 0L, 1L, 1L, 0L, 1L, 0L, 0L, 1L, 1L, 1L, 1L, \n .     0L, 1L, 1L, 0L, 1L, 1L, 0L, 0L, 1L, 1L, 0L, 1L, 0L, 1L, 1L, \n .     1L, 1L, 1L, 1L, 0L, 1L, 1L, 1L, 1L, 1L, 0L, 1L, 1L, 0L, 0L, \n .     0L, 0L, 1L, 0L, 0L, 0L, 0L, 1L, 1L, 1L, 0L, 0L, 1L, 1L, 0L, \n .     0L, 1L, 1L, 0L, 0L, 1L, 0L, 1L, 1L, 1L, 0L, 1L, 0L, 0L, 1L, \n .     0L), oldpeak = c(2.3, 3.5, 1.4, 0.8, 0.6, 0.4, 1.3, 0, 0.5, \n .     1.6, 1.2, 0.2, 0.6, 1.8, 1, 1.6, 0, 2.6, 1.5, 1.8, 0.5, 0.4, \n .     0, 1, 1.4, 0.4, 1.6, 0.6, 0.8, 1.2, 0, 0.4, 0, 0.5, 1.4, \n .     1.4, 0, 1.6, 0.8, 0.8, 1.5, 0.2, 3, 0.4, 0, 0.2, 0, 0, 0, \n .     0, 0.5, 0.4, 1.8, 0.6, 0, 0.8, 0, 0, 0, 0, 0, 0, 0, 0, 0, \n .     1.4, 1.2, 0.6, 0, 0, 0.4, 0, 0, 0, 0.2, 1.4, 2.4, 0, 0, 0.6, \n .     0, 0, 0, 1.2, 0.6, 1.6, 1, 0, 1.6, 1, 0, 0, 0, 0, 0, 0, 1.2, \n .     0.1, 1.9, 0, 0.8, 4.2, 0, 0.8, 0, 1.5, 0.1, 0.2, 1.1, 0, \n .     0, 0.2, 0.2, 0, 0, 0, 2, 1.9, 0, 0, 2, 0, 0, 0, 0, 0.7, 0.1, \n .     0, 0.1, 0.2, 0, 0, 0, 0, 0, 0, 0, 0, 1.5, 0.2, 0.6, 1.2, \n .     0, 0.3, 1.1, 0, 0.3, 0.9, 0, 0, 2.3, 1.6, 0.6, 0, 0, 0.6, \n .     0, 0, 0.4, 0, 0, 1.2, 0, 0, 0, 1.5, 2.6, 3.6, 1.4, 3.1, 0.6, \n .     1, 1.8, 3.2, 2.4, 2, 1.4, 0, 2.5, 0.6, 1.2, 1, 0, 2.5, 2.6, \n .     0, 1.4, 2.2, 0.6, 0, 1.2, 2.2, 1.4, 2.8, 3, 3.4, 3.6, 0.2, \n .     1.8, 0.6, 0, 2.8, 0.8, 1.6, 6.2, 0, 1.2, 2.6, 2, 0, 0.4, \n .     3.6, 1.2, 1, 1.2, 3, 1.2, 1.8, 2.8, 0, 4, 5.6, 1.4, 4, 2.8, \n .     2.6, 1.4, 1.6, 0.2, 1.8, 0, 1, 0.8, 2.2, 2.4, 1.6, 0, 1.2, \n .     0, 0, 2.9, 0, 2, 1.2, 2.1, 0.5, 1.9, 0, 0, 2, 4.2, 0.1, 1.9, \n .     0.9, 0, 0, 3, 0.9, 1.4, 3.8, 1, 0, 2, 1.8, 0, 0.1, 3.4, 0.8, \n .     3.2, 1.6, 0.8, 2.6, 1, 0.1, 1, 1, 2, 0.3, 0, 3.6, 1.8, 1, \n .     2.2, 0, 1.9, 1.8, 0.8, 0, 3, 2, 0, 4.4, 2.8, 0.8, 2.8, 4, \n .     0, 1, 0.2, 1.2, 3.4, 1.2, 0), slope = c(0L, 0L, 2L, 2L, 2L, \n .     1L, 1L, 2L, 2L, 2L, 2L, 2L, 2L, 1L, 2L, 1L, 2L, 0L, 2L, 2L, \n .     1L, 2L, 2L, 1L, 2L, 2L, 2L, 2L, 2L, 0L, 2L, 2L, 2L, 0L, 2L, \n .     0L, 2L, 2L, 2L, 2L, 2L, 1L, 1L, 1L, 2L, 2L, 2L, 2L, 2L, 2L, \n .     2L, 1L, 1L, 1L, 2L, 2L, 2L, 2L, 2L, 2L, 2L, 2L, 1L, 1L, 2L, \n .     2L, 1L, 1L, 2L, 2L, 1L, 2L, 2L, 2L, 1L, 1L, 1L, 2L, 2L, 1L, \n .     2L, 2L, 2L, 1L, 1L, 1L, 2L, 2L, 1L, 1L, 2L, 2L, 2L, 2L, 1L, \n .     2L, 1L, 2L, 2L, 2L, 2L, 0L, 2L, 0L, 2L, 1L, 1L, 1L, 2L, 2L, \n .     2L, 2L, 2L, 2L, 2L, 2L, 1L, 1L, 2L, 1L, 1L, 2L, 2L, 2L, 2L, \n .     2L, 2L, 2L, 1L, 2L, 2L, 1L, 2L, 2L, 2L, 2L, 2L, 2L, 1L, 1L, \n .     2L, 1L, 1L, 2L, 1L, 2L, 1L, 2L, 2L, 2L, 2L, 1L, 1L, 1L, 1L, \n .     1L, 2L, 2L, 1L, 2L, 0L, 2L, 2L, 2L, 2L, 1L, 1L, 0L, 1L, 0L, \n .     1L, 0L, 1L, 2L, 1L, 1L, 2L, 2L, 1L, 1L, 1L, 1L, 2L, 1L, 1L, \n .     2L, 2L, 1L, 1L, 2L, 1L, 1L, 1L, 1L, 1L, 0L, 1L, 1L, 1L, 2L, \n .     2L, 1L, 2L, 1L, 0L, 2L, 1L, 1L, 1L, 2L, 1L, 1L, 1L, 1L, 1L, \n .     1L, 1L, 2L, 1L, 2L, 1L, 0L, 1L, 0L, 1L, 0L, 1L, 1L, 1L, 1L, \n .     2L, 1L, 1L, 0L, 1L, 2L, 2L, 1L, 2L, 2L, 1L, 1L, 1L, 1L, 1L, \n .     1L, 1L, 1L, 2L, 1L, 1L, 1L, 1L, 1L, 2L, 1L, 1L, 1L, 1L, 1L, \n .     1L, 2L, 1L, 1L, 1L, 2L, 1L, 2L, 1L, 0L, 2L, 1L, 1L, 2L, 1L, \n .     2L, 1L, 2L, 2L, 1L, 1L, 1L, 1L, 2L, 2L, 1L, 2L, 2L, 1L, 1L, \n .     2L, 0L, 1L, 1L, 0L, 2L, 1L, 1L, 1L, 1L, 1L, 1L, 1L), ca = c(0L, \n .     0L, 0L, 0L, 0L, 0L, 0L, 0L, 0L, 0L, 0L, 0L, 0L, 0L, 0L, 0L, \n .     0L, 0L, 0L, 2L, 0L, 0L, 0L, 0L, 0L, 2L, 0L, 0L, 1L, 0L, 1L, \n .     0L, 0L, 1L, 1L, 0L, 0L, 0L, 0L, 0L, 1L, 0L, 0L, 0L, 0L, 0L, \n .     0L, 0L, 0L, 0L, 0L, 0L, 3L, 0L, 0L, 1L, 0L, 0L, 0L, 1L, 1L, \n .     0L, 0L, 0L, 0L, 0L, 0L, 0L, 0L, 0L, 0L, 1L, 0L, 0L, 0L, 0L, \n .     0L, 0L, 0L, 0L, 0L, 0L, 1L, 0L, 0L, 0L, 1L, 0L, 0L, 0L, 2L, \n .     0L, 4L, 1L, 0L, 0L, 0L, 3L, 1L, 3L, 2L, 0L, 2L, 0L, 0L, 0L, \n .     1L, 0L, 0L, 0L, 0L, 1L, 0L, 0L, 0L, 0L, 0L, 0L, 0L, 0L, 2L, \n .     0L, 0L, 0L, 0L, 0L, 0L, 1L, 0L, 1L, 1L, 0L, 0L, 0L, 0L, 0L, \n .     0L, 0L, 0L, 1L, 0L, 0L, 0L, 2L, 0L, 0L, 1L, 0L, 0L, 0L, 0L, \n .     0L, 0L, 1L, 0L, 0L, 0L, 0L, 4L, 0L, 0L, 0L, 0L, 4L, 4L, 3L, \n .     2L, 2L, 1L, 0L, 1L, 0L, 0L, 2L, 2L, 0L, 2L, 0L, 0L, 1L, 1L, \n .     3L, 0L, 1L, 0L, 1L, 1L, 1L, 1L, 0L, 0L, 3L, 1L, 2L, 0L, 0L, \n .     0L, 2L, 2L, 2L, 1L, 1L, 0L, 0L, 3L, 1L, 1L, 2L, 3L, 1L, 1L, \n .     1L, 0L, 0L, 1L, 0L, 1L, 3L, 1L, 2L, 3L, 0L, 1L, 2L, 1L, 0L, \n .     1L, 0L, 0L, 0L, 0L, 3L, 1L, 1L, 3L, 0L, 2L, 2L, 3L, 0L, 1L, \n .     0L, 2L, 1L, 1L, 0L, 2L, 3L, 1L, 3L, 3L, 4L, 3L, 2L, 0L, 3L, \n .     2L, 0L, 0L, 0L, 2L, 1L, 2L, 2L, 1L, 1L, 0L, 3L, 2L, 0L, 0L, \n .     2L, 0L, 1L, 1L, 2L, 1L, 0L, 2L, 1L, 0L, 0L, 1L, 0L, 1L, 2L, \n .     2L, 1L, 1L, 1L, 1L, 3L, 2L, 0L, 0L, 2L, 0L, 2L, 0L, 0L, 2L, \n .     1L, 1L), thal = c(1L, 2L, 2L, 2L, 2L, 1L, 2L, 3L, 3L, 2L, \n .     2L, 2L, 2L, 2L, 2L, 2L, 2L, 2L, 2L, 2L, 3L, 2L, 2L, 2L, 3L, \n .     2L, 2L, 2L, 2L, 2L, 2L, 3L, 2L, 2L, 2L, 2L, 2L, 3L, 2L, 2L, \n .     2L, 2L, 2L, 2L, 2L, 2L, 2L, 2L, 0L, 2L, 2L, 2L, 3L, 2L, 2L, \n .     2L, 2L, 2L, 2L, 2L, 2L, 3L, 1L, 1L, 2L, 2L, 2L, 2L, 2L, 2L, \n .     3L, 3L, 2L, 2L, 2L, 2L, 2L, 2L, 2L, 3L, 2L, 2L, 2L, 3L, 2L, \n .     3L, 3L, 3L, 2L, 2L, 2L, 3L, 2L, 2L, 2L, 3L, 2L, 3L, 2L, 2L, \n .     2L, 3L, 2L, 3L, 2L, 2L, 2L, 2L, 2L, 2L, 2L, 3L, 3L, 3L, 2L, \n .     2L, 2L, 3L, 2L, 2L, 2L, 2L, 2L, 2L, 2L, 2L, 2L, 2L, 2L, 2L, \n .     2L, 2L, 2L, 2L, 2L, 2L, 2L, 2L, 1L, 3L, 2L, 2L, 2L, 2L, 2L, \n .     2L, 2L, 2L, 2L, 2L, 1L, 2L, 3L, 2L, 2L, 2L, 2L, 2L, 3L, 3L, \n .     2L, 2L, 2L, 2L, 2L, 2L, 3L, 2L, 3L, 3L, 1L, 3L, 2L, 3L, 3L, \n .     3L, 3L, 2L, 3L, 1L, 3L, 3L, 2L, 3L, 3L, 2L, 3L, 3L, 3L, 3L, \n .     3L, 3L, 3L, 3L, 2L, 3L, 2L, 3L, 3L, 1L, 2L, 3L, 3L, 3L, 3L, \n .     3L, 3L, 3L, 3L, 3L, 3L, 3L, 3L, 3L, 2L, 3L, 3L, 3L, 3L, 3L, \n .     3L, 3L, 2L, 3L, 3L, 3L, 3L, 3L, 3L, 3L, 2L, 3L, 3L, 2L, 2L, \n .     3L, 3L, 3L, 2L, 3L, 3L, 2L, 1L, 3L, 1L, 3L, 3L, 1L, 3L, 3L, \n .     3L, 3L, 2L, 2L, 2L, 3L, 3L, 3L, 2L, 3L, 3L, 2L, 3L, 2L, 2L, \n .     2L, 2L, 2L, 2L, 3L, 3L, 2L, 2L, 3L, 2L, 3L, 3L, 3L, 2L, 2L, \n .     1L, 0L, 1L, 3L, 3L, 3L, 2L, 2L, 3L, 3L, 3L, 1L, 1L, 3L, 1L, \n .     3L, 2L, 1L, 3L, 3L, 3L, 3L, 2L), target = c(1L, 1L, 1L, 1L, \n .     1L, 1L, 1L, 1L, 1L, 1L, 1L, 1L, 1L, 1L, 1L, 1L, 1L, 1L, 1L, \n .     1L, 1L, 1L, 1L, 1L, 1L, 1L, 1L, 1L, 1L, 1L, 1L, 1L, 1L, 1L, \n .     1L, 1L, 1L, 1L, 1L, 1L, 1L, 1L, 1L, 1L, 1L, 1L, 1L, 1L, 1L, \n .     1L, 1L, 1L, 1L, 1L, 1L, 1L, 1L, 1L, 1L, 1L, 1L, 1L, 1L, 1L, \n .     1L, 1L, 1L, 1L, 1L, 1L, 1L, 1L, 1L, 1L, 1L, 1L, 1L, 1L, 1L, \n .     1L, 1L, 1L, 1L, 1L, 1L, 1L, 1L, 1L, 1L, 1L, 1L, 1L, 1L, 1L, \n .     1L, 1L, 1L, 1L, 1L, 1L, 1L, 1L, 1L, 1L, 1L, 1L, 1L, 1L, 1L, \n .     1L, 1L, 1L, 1L, 1L, 1L, 1L, 1L, 1L, 1L, 1L, 1L, 1L, 1L, 1L, \n .     1L, 1L, 1L, 1L, 1L, 1L, 1L, 1L, 1L, 1L, 1L, 1L, 1L, 1L, 1L, \n .     1L, 1L, 1L, 1L, 1L, 1L, 1L, 1L, 1L, 1L, 1L, 1L, 1L, 1L, 1L, \n .     1L, 1L, 1L, 1L, 1L, 1L, 1L, 1L, 1L, 1L, 1L, 0L, 0L, 0L, 0L, \n .     0L, 0L, 0L, 0L, 0L, 0L, 0L, 0L, 0L, 0L, 0L, 0L, 0L, 0L, 0L, \n .     0L, 0L, 0L, 0L, 0L, 0L, 0L, 0L, 0L, 0L, 0L, 0L, 0L, 0L, 0L, \n .     0L, 0L, 0L, 0L, 0L, 0L, 0L, 0L, 0L, 0L, 0L, 0L, 0L, 0L, 0L, \n .     0L, 0L, 0L, 0L, 0L, 0L, 0L, 0L, 0L, 0L, 0L, 0L, 0L, 0L, 0L, \n .     0L, 0L, 0L, 0L, 0L, 0L, 0L, 0L, 0L, 0L, 0L, 0L, 0L, 0L, 0L, \n .     0L, 0L, 0L, 0L, 0L, 0L, 0L, 0L, 0L, 0L, 0L, 0L, 0L, 0L, 0L, \n .     0L, 0L, 0L, 0L, 0L, 0L, 0L, 0L, 0L, 0L, 0L, 0L, 0L, 0L, 0L, \n .     0L, 0L, 0L, 0L, 0L, 0L, 0L, 0L, 0L, 0L, 0L, 0L, 0L, 0L, 0L, \n .     0L, 0L, 0L, 0L, 0L, 0L, 0L, 0L, 0L, 0L, 0L, 0L, 0L, 0L)), class = \"data.frame\", row.names = c(NA, \n .     -303L)), x = \"oldeak\", y = \"slope\", font.label = list(size = 12, \n .         face = \"plain\", color = \"black\"), fun = function (data, \n .         x, y, color = \"black\", fill = \"lightgray\", palette = NULL, \n .         shape = 19, size = 2, point = TRUE, rug = FALSE, title = NULL, \n .         xlab = NULL, ylab = NULL, add = c(\"none\", \"reg.line\", \n .             \"loess\"), add.params = list(), conf.int = FALSE, \n .         conf.int.level = 0.95, fullrange = FALSE, ellipse = FALSE, \n .         ellipse.level = 0.95, ellipse.type = \"norm\", ellipse.alpha = 0.1, \n .         ellipse.border.remove = FALSE, mean.point = FALSE, mean.point.size = ifelse(is.numeric(size), \n .             2 * size, size), star.plot = FALSE, star.plot.lty = 1, \n .         star.plot.lwd = NULL, label = NULL, font.label = c(12, \n .             \"plain\"), font.family = \"\", label.select = NULL, \n .         repel = FALSE, label.rectangle = FALSE, parse = FALSE, \n .         cor.coef = FALSE, cor.coeff.args = list(), cor.method = \"pearson\", \n .         cor.coef.coord = c(NULL, NULL), cor.coef.size = 4, ggp = NULL, \n .         show.legend.text = NA, ggtheme = theme_classic(), ...) \n .     {\n .         add <- match.arg(add)\n .         add.params <- .check_add.params(add, add.params, error.plot = \"\", \n .             data, color, fill, ...)\n .         if (length(label) > 1) {\n .             if (length(label) != nrow(data)) \n .                 stop(\"The argument label should be a column name or a vector of length = nrow(data). \", \n .                   \"It seems that length(label) != nrow(data)\")\n .             else data$label.xx <- label\n .             label <- \"label.xx\"\n .         }\n .         font.label <- .parse_font(font.label)\n .         font.label$size <- ifelse(is.null(font.label$size), 12, \n .             font.label$size)\n .         font.label$color <- ifelse(is.null(font.label$color), \n .             color, font.label$color)\n .         font.label$face <- ifelse(is.null(font.label$face), \"plain\", \n .             font.label$face)\n .         if (is.null(ggp)) \n .             p <- ggplot(data, create_aes(list(x = x, y = y)))\n .         else p <- ggp\n .         if (point) \n .             p <- p + .geom_exec(geom_point, data = data, x = x, \n .                 y = y, color = color, fill = fill, size = size, \n .                 shape = shape, ...)\n .         if (shape %in% colnames(data)) {\n .             ngroups <- length(levels(data[, shape]))\n .             if (ngroups > 6) \n .                 p <- p + scale_shape_manual(values = 1:ngroups, \n .                   labels = levels(data[, shape]))\n .         }\n .         if (rug) \n .             p <- p + .geom_exec(geom_rug, data = data, color = color, \n .                 size = size/2)\n .         if (add %in% c(\"reg.line\", \"loess\")) {\n .             add <- ifelse(add == \"reg.line\", stats::lm, stats::loess)\n .             if (is.null(add.params$linetype)) \n .                 add.params$linetype <- \"solid\"\n .             if (conf.int == FALSE) \n .                 add.params$fill <- \"lightgray\"\n .             .args <- .geom_exec(NULL, data = data, se = conf.int, \n .                 level = conf.int.level, color = add.params$color, \n .                 fill = add.params$fill, linetype = add.params$linetype, \n .                 size = add.params$size, fullrange = fullrange)\n .             mapping <- .args$mapping\n .             option <- .args$option\n .             option[[\"method\"]] <- add\n .             option[[\"mapping\"]] <- create_aes(mapping)\n .             p <- p + do.call(geom_smooth, option)\n .         }\n .         if (ellipse) {\n .             grp <- intersect(unique(c(color, fill, shape)), colnames(data))[1]\n .             if (is.na(grp)) {\n .                 grp <- factor(rep(1, nrow(data)))\n .                 grp_name <- \"group\"\n .                 data$group <- grp\n .             }\n .             else {\n .                 grp_name <- grp\n .                 data[, grp_name] <- as.factor(data[, grp_name])\n .             }\n .             if (ellipse.type == \"convex\") \n .                 p <- p + .convex_ellipse(data, x, y, grp_name, \n .                   color, fill, ellipse.alpha, ellipse.border.remove = ellipse.border.remove)\n .             else if (ellipse.type == \"confidence\") \n .                 p <- p + .confidence_ellipse(data, x, y, grp_name, \n .                   color, fill, alpha = ellipse.alpha, level = ellipse.level, \n .                   ellipse.border.remove = ellipse.border.remove)\n .             else if (ellipse.type %in% c(\"t\", \"norm\", \"euclid\")) \n .                 p <- p + .stat_ellipse(data, x, y, grp_name, \n .                   color = color, fill = fill, alpha = ellipse.alpha, \n .                   type = ellipse.type, level = ellipse.level, \n .                   ellipse.border.remove = ellipse.border.remove)\n .         }\n .         if (mean.point) {\n .             p <- p + .geom_exec(stat_mean, data = data, color = color, \n .                 shape = shape, fill = fill, size = mean.point.size)\n .         }\n .         if (star.plot) {\n .             p <- p + .geom_exec(stat_stars, data = data, color = color, \n .                 linetype = star.plot.lty, size = star.plot.lwd)\n .         }\n .         alpha <- 1\n .         if (!is.null(list(...)$alpha)) \n .             alpha <- list(...)$alpha\n .         if (!is.null(label)) {\n .             lab_data <- data\n .             if (!is.null(label.select)) \n .                 lab_data <- subset(lab_data, lab_data[, label, \n .                   drop = TRUE] %in% label.select, drop = FALSE)\n .             if (repel) {\n .                 ggfunc <- ggrepel::geom_text_repel\n .                 if (label.rectangle) \n .                   ggfunc <- ggrepel::geom_label_repel\n .                 p <- p + .geom_exec(ggfunc, data = lab_data, \n .                   x = x, y = y, label = label, fontface = font.label$face, \n .                   parse = parse, size = font.label$size/3, color = font.label$color, \n .                   alpha = alpha, family = font.family, box.padding = unit(0.35, \n .                     \"lines\"), point.padding = unit(0.3, \"lines\"), \n .                   force = 1, show.legend = show.legend.text, \n .                   seed = 123)\n .             }\n .             else {\n .                 ggfunc <- geom_text\n .                 vjust <- -0.7\n .                 if (label.rectangle) {\n .                   ggfunc <- geom_label\n .                   vjust <- -0.4\n .                 }\n .                 p <- p + .geom_exec(ggfunc, data = lab_data, \n .                   x = x, y = y, color = color, label = label, \n .                   fontface = font.label$face, family = font.family, \n .                   parse = parse, size = font.label$size/3, color = font.label$color, \n .                   vjust = vjust, alpha = alpha, show.legend = show.legend.text)\n .             }\n .         }\n .         if (cor.coef) {\n .             if (!missing(cor.method)) \n .                 cor.coeff.args$method <- cor.method\n .             if (!missing(cor.coef.size)) \n .                 cor.coeff.args$size <- cor.coef.size\n .             if (!missing(cor.coef.coord)) {\n .                 cor.coeff.args$label.x <- cor.coef.coord[1]\n .                 cor.coeff.args$label.y <- cor.coef.coord[2]\n .             }\n .             p <- p + do.call(stat_cor, cor.coeff.args)\n .         }\n .         p <- ggpar(p, palette = palette, ggtheme = ggtheme, title = title, \n .             xlab = xlab, ylab = ylab, ...)\n .         if (font.family != \"\") \n .             p <- p + theme(text = element_text(family = font.family))\n .         p\n .     })",
            "4. .check_data(data, x, y, combine = combine | merge != \"none\")",
            "5. data[, x]",
            "6. `[.data.frame`(data, , x)",
            "7. stop(\"undefined columns selected\")"
          ]
        }
      ]
    },
    {
      "cell_type": "code",
      "metadata": {
        "id": "MfGtKAvk_y5F"
      },
      "source": [
        ""
      ],
      "execution_count": null,
      "outputs": []
    }
  ]
}